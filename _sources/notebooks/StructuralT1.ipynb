{
 "cells": [
  {
   "cell_type": "markdown",
   "id": "3b4df5c0-306b-4f6c-91d4-9153ba50dc31",
   "metadata": {},
   "source": [
    "# Structural Transformation Notes\n",
    "\n",
    "Below some brief notes on general equilibrium modeling of structural transformation.  Some of the presentation illustrates and expands upon this short useful survey:\n",
    "\n",
    "> Matsuyama, K., 2008. Structural change. in Durlauf and Blume eds. *The new Palgrave dictionary of economics* 2, pp.\n",
    "\n",
    "The note is organized around the following sections:\n",
    "\n",
    "- Market Clearing Neo-Classical Models\n",
    "   - Push out of agriculture vs. Pull into Manufacturing\n",
    "   - Pull in an Open Economy Model\n",
    "   - Push in Closed Economy with Non-homothetic preferences\n",
    "- Productivity growth caused by structural change\n",
    "- Impediments to structural change\n",
    "- Spillovers, Complementarities, and Multiple Equilibria   \n",
    "   \n",
    "---\n"
   ]
  },
  {
   "cell_type": "markdown",
   "id": "4af5cf13-5881-4b1d-9b34-80ff8f83e72d",
   "metadata": {},
   "source": [
    "## Market Clearing Neo-Classical Models\n",
    "\n",
    "Here we seek to explain structural transformation and the accompanying movement of labor out of agriculture and into other sectors in a market-clearing neo-classical model with no market failures.  In these model the marginal value product of labor is the same in both agriculture and manufacturing, hence there is no 'dualism' due to market frictions of one kind or another.\n",
    "\n",
    "Matsuyama builds a very simple neo-classical model with two sectors (in effect a specific factors model).  \n",
    "\n",
    "**Production**\n",
    "\n",
    "Sector $j \\in (1,2)$ is given by $Y_j = A_j \\cdot F_j(n_j)$. Let $j=1$ be the primary (agricultural) sector and $j=2$ the secondary (manufacturing) sector, where $A_j$ represents Total Factor Productivity (TFP) in each sector. We normalize the size of the population to 1. Then, if $n$ is the share (and total) labor used in sector 1 then $1-n$ is the amount left to be in sector two.  \n",
    "\n",
    "Matsuyama refers to $F$ only as a generic increasing concave function, but for purposes of the graph examples, let's specify:\n",
    "\n",
    "$$\n",
    "A_1 F_1(n) = A_1 n^\\alpha  \\\\\n",
    "A_2 F_2(1-n) = A_2 (1-n)^\\nu  \n",
    "$$"
   ]
  },
  {
   "cell_type": "markdown",
   "id": "5db0e112-aa50-474f-be83-443c283bc682",
   "metadata": {},
   "source": [
    "Competitive markets will insure that labor is efficiently allocated across sectors such that the marginal value product of labor be equalized in each sector:\n",
    "    \n",
    "$$\n",
    "A_1 F_1^\\prime (n) = p A_2 F_2^\\prime (1-n)\n",
    "$$"
   ]
  },
  {
   "cell_type": "markdown",
   "id": "f8af5650-05d3-43c6-8bd2-7de3f9bd11e6",
   "metadata": {},
   "source": [
    "where $p=P_2/P_1$ is the relative price of sector 2 goods."
   ]
  },
  {
   "cell_type": "markdown",
   "id": "2d76342a-57a4-4bae-ac5c-e1bb0eeaa5e2",
   "metadata": {},
   "source": [
    "We can trace out a production possibility frontier (PPF) by simply plotting $\\left( A_1 F_1(n), A F_2(1-n) \\right)$ as we vary $n$ from 0 to 1. Below we draw two PPFs.  One with $A_1=A_2=1$ and another afteragricultural TFP has improved to $A_1=1.2$  (we are setting $\\alpha=\\nu=1/2$)"
   ]
  },
  {
   "cell_type": "code",
   "execution_count": 1,
   "id": "2b752db8-0e59-44ed-a798-2c9a7e706123",
   "metadata": {
    "tags": [
     "hide-input"
    ]
   },
   "outputs": [],
   "source": [
    "import matplotlib.pyplot as plt\n",
    "import numpy as np\n",
    "from scipy.optimize import fsolve"
   ]
  },
  {
   "cell_type": "code",
   "execution_count": 2,
   "id": "8ac3459a-aaf8-42eb-80d8-a1e05120c5ec",
   "metadata": {
    "tags": [
     "hide-input"
    ]
   },
   "outputs": [],
   "source": [
    "def F(n, a):\n",
    "    return  n ** a\n",
    "\n",
    "def Fprime(n, a):\n",
    "    return a* n ** (a-1)\n",
    "\n",
    "\n",
    "def PPF(A1=1, A2=1, a1=0.5, a2=0.5, ax=None):   \n",
    "    if ax is None:\n",
    "        ax = plt.gca()\n",
    "    n = np.linspace(0,1,50)\n",
    "    plt.plot( A1*F(n, a1), A2*F(1-n, a2) )\n",
    "    plt.xlabel(r'$Y_1$'), plt.ylabel(r'$Y_2$')"
   ]
  },
  {
   "cell_type": "code",
   "execution_count": 3,
   "id": "92735ee9-33ee-432d-81ef-55f560b5a1a0",
   "metadata": {
    "tags": [
     "hide-input"
    ]
   },
   "outputs": [
    {
     "data": {
      "image/png": "[encoded data removed]",
      "text/plain": [
       "<Figure size 432x288 with 1 Axes>"
      ]
     },
     "metadata": {
      "needs_background": "light"
     },
     "output_type": "display_data"
    }
   ],
   "source": [
    "fig, ax = plt.subplots(1)\n",
    "PPF(A1=1, A2=1, ax=ax)\n",
    "PPF(A1=1.3, A2=1, ax=ax)\n",
    "ax.set_xlim(left=0), ax.set_ylim(bottom=0)\n",
    "ax.set_aspect('equal')"
   ]
  },
  {
   "cell_type": "markdown",
   "id": "98d4d908-5c49-458d-8637-8e113b8d0612",
   "metadata": {},
   "source": [
    "### Push and/or Pull\n",
    "\n",
    "The large literature on structural transformation often distinguishes between forces that 'Push' or 'Pull' labor out of agriculture. \n",
    "\n",
    "'Pull' could come about, for example, via an increase over time of the relative price of manufactures $p$, or an increase in relative TFP $A_2/A_1$. These have the effect of shifting out the demand for labor (the marginal value product or labor curve $p A_2 F_2^\\prime (1-n)$ relative to that in agriculture, leading to an incipient rise in the manufacturing wage that transforms the economy by attracting labor to that sector.\n",
    "\n",
    "As demonstrated below, it's easy to illustrate Pull effects in this economy with standard homothetic preferences in either the open or closed economy.\n",
    "\n",
    "The 'Push' argument is associated the idea that rises in agricultural productivity $A_1$ will mean that more food can be produced with fewer workers and therefore that labor can be 'released' from agriculture to other sectors. A related prevalent view is than an 'agricultural revolution' is often a prior and necessary condition for an industrial revolution.  \n",
    "\n",
    "It turns out one has to be a bit harder to get this effect to emerge in this standard neo-classical model because, as we've just argued, raising the relative productivity in a sector tends *increase* demand for labor unless the relative price of the good happens to simultaneously fall by enough to reverse that effect. As we'll show one way to engineer such an effect is to assume non-homothetic preferences to rise to a form of Engel's law or that manufactures have a higher income elasticity of demand, such that the agricultural terms of trade deteriorate against agriculture as incomes expand."
   ]
  },
  {
   "cell_type": "markdown",
   "id": "2217f514-1c46-49d8-8175-03e79cb4af50",
   "metadata": {},
   "source": [
    "### The Open Economy with Homothetic Preferences\n",
    "\n",
    "In the open-economy version of this model, the relative price of manufactured goods $p$ is set and fixed on world markets and hence does not change during the period of analysis. We can focus on the optimum production allocation without worrying about preferences, because agents first maximize the value of income at world prices and then choose optimum consumption baskets.\n",
    "\n",
    "We can plot labor demand in each sector and solve for the equilibrium labor allocation $n^*$ that solves:\n",
    "\n",
    "$$\n",
    "A_1 F_1^\\prime (n) = p A_2 F_2^\\prime (1-n)\n",
    "$$"
   ]
  },
  {
   "cell_type": "code",
   "execution_count": 4,
   "id": "34af6cd7-3fef-4f79-9667-baab24d54a16",
   "metadata": {
    "tags": [
     "hide-input"
    ]
   },
   "outputs": [],
   "source": [
    "def weq(A1=1, A2=1, a1=0.5, a2=0.5, p=1):\n",
    "    \n",
    "    def foc(n):\n",
    "        return  p * A2 * Fprime(1-n, a2) - A1 * Fprime(n, a1) \n",
    "    \n",
    "    n = 0.75 # guess\n",
    "    ne = fsolve(foc, n)[0]\n",
    "    we = A1 * Fprime(ne, a1)\n",
    "    return ne, we\n",
    "\n",
    "\n",
    "def sfm(A1=1, A2=1, a1=0.5, a2=0.5, p=1, ax=None):\n",
    "    if ax is None:\n",
    "        ax = plt.gca()\n",
    "    nn = np.linspace(0.01, 0.99, 100)\n",
    "    ax.plot(nn, A1 * Fprime(nn, a1))\n",
    "    ax.plot(nn, p * A2 * Fprime(1-nn, a2))\n",
    "    ne, we = weq(A1, A2, a1, a2, p)\n",
    "    ax.scatter(ne, we)\n",
    "    ax.axhline(we, linestyle =':')\n",
    "    ax.vlines(x = ne, ymin=0, ymax=we, linestyle =':')\n",
    "    ax.set_ylim(0,2)\n",
    "    ax.set_xlim(0,1)\n",
    "    ax.set_xlabel(r'$n$')\n",
    "    ax.text(0.8, 0.9*A1 *Fprime(1,a1), r'$L_1^d$')\n",
    "    ax.text(0.1, 0.9*p*A2 *Fprime(0.999, a2), r'$L_2^d$')"
   ]
  },
  {
   "cell_type": "markdown",
   "id": "dbb8eb1a-8b89-4a70-a880-eab53c1d1161",
   "metadata": {},
   "source": [
    "**Pull: Impact of increase in relative price of manufactures in open Economy**\n",
    "\n",
    "Exactly like a specific factors model diagram. A very similar diagram would depict effect of increase in sector 2 relative TFP $A_2/A_1$"
   ]
  },
  {
   "cell_type": "code",
   "execution_count": 5,
   "id": "794c3cda-a427-4107-bf7b-d09f787ac127",
   "metadata": {},
   "outputs": [
    {
     "data": {
      "image/png": "[encoded data removed]",
      "text/plain": [
       "<Figure size 432x288 with 1 Axes>"
      ]
     },
     "metadata": {
      "needs_background": "light"
     },
     "output_type": "display_data"
    }
   ],
   "source": [
    "sfm(p=1)\n",
    "sfm(p=1.5)"
   ]
  },
  {
   "cell_type": "markdown",
   "id": "fb5b7caa-6cbc-468c-8d0b-17995da06dc1",
   "metadata": {},
   "source": [
    "Exogenously driven increases in the relative productivity of manufactures drives this 'pull' effect. As Matsuyama explains, this is the sort of mechanism envisioned by Lewis (1954) although the Lewis model also has a form of dualism not captured here.  In particular, we can see (from the diagram above) that in these models the expansion of one sector can be choked off by a rising wage. Lewis' assumption of \"unlimited supplies of labor\" in agriculture amounts to saying that there will be a very elastic supply of labor aso wages will not be fast to rise.\n"
   ]
  },
  {
   "cell_type": "markdown",
   "id": "4a955ce9-01d6-49cf-a8d6-396f27cec8bb",
   "metadata": {},
   "source": [
    "### Non-homothetic preferences"
   ]
  },
  {
   "cell_type": "markdown",
   "id": "9622e0f2-539d-442a-8427-998ba39f6f32",
   "metadata": {},
   "source": [
    "In a closed economy the relative price $p$ is determined endogenously by a tangency between the PPF and the representative indifference curve. As mentioned above, we'll need non-homothetic preferences in order to get the kind of 'Push' effect used in Gollin et al (2002):\n",
    "\n",
    "The consumer has Stone-Geary preferences of the form:\n",
    "\n",
    "$$\n",
    "U(C_1, C_2) = \\beta \\cdot \\log(C_1 - \\gamma) + \\log(C_2)\n",
    "$$\n",
    "\n",
    "If $\\gamma=0$ these would be standard homothetic preferences with linear income expansion paths (i.e. consumers maintain consumption ratio $C_2/C_1$ as income expands). When $\\gamma>0$ preferences are non-homothetic.  We interpret $\\gamma$ as a minimum agricultural (food) consumption requirement.  At low levels of income, all income is devoted to satisfying the requirement, but once that level is reached, remaining income will be spent in constant expenditure shares:"
   ]
  },
  {
   "cell_type": "markdown",
   "id": "6048c820-46c1-4604-b659-6017bcdbaa3c",
   "metadata": {},
   "source": [
    "$$\n",
    "C_1 - \\gamma = \\frac{\\beta}{1+\\beta} \\frac{Y}{P_1}  \\\\\n",
    "C_2 = \\frac{1}{1+\\beta} \\frac{Y}{P_2}\n",
    "$$"
   ]
  },
  {
   "cell_type": "markdown",
   "id": "afccd11c-ef12-4a2c-b164-6960a8a23a10",
   "metadata": {},
   "source": [
    "Define $p=P_2/P_1$ as the relative price of good 2, then $C_1$ and $C_2$ will be consumed proportional to each other following: \n",
    "\n",
    "$$\n",
    "C_1 =\\gamma + (\\beta p) C_2\n",
    "$$"
   ]
  },
  {
   "cell_type": "markdown",
   "id": "ec8f876b-f726-4db9-867e-acffea2eccd5",
   "metadata": {},
   "source": [
    "Below is a plot of the optimum $C_2/C_1$ ratio for homothetic (blue, $\\gamma=0$) and non-homothetic (orange, $\\gamma=1$) preferences. In the latter case, after income reaches the level at which subsistence food needs are satisfied, the $C_2/C_1$ ratio (think of a ray from origin to a point on orange line) increases as incomes expand."
   ]
  },
  {
   "cell_type": "code",
   "execution_count": 6,
   "id": "282cfb0a-da33-445e-a275-a2103c5b4cd4",
   "metadata": {
    "tags": [
     "hide-input"
    ]
   },
   "outputs": [
    {
     "data": {
      "image/png": "[encoded data removed]",
      "text/plain": [
       "<Figure size 432x288 with 1 Axes>"
      ]
     },
     "metadata": {
      "needs_background": "light"
     },
     "output_type": "display_data"
    }
   ],
   "source": [
    "c1 = np.linspace(0,4,100)\n",
    "def c2(c1, gam, beta, p):\n",
    "    return  (c1 - gam)/(beta * p)\n",
    "\n",
    "plt.plot(c1, c2(c1, 0, 0.5, 1))\n",
    "plt.plot(c1, c2(c1, 1, 0.5, 1))\n",
    "plt.ylim(0, 4), plt.xlim(0, 4)\n",
    "plt.xlabel(r'$C_1$'), plt.ylabel(r'$C_2$')\n",
    "plt.grid()\n",
    "plt.gca().set_aspect('equal')"
   ]
  },
  {
   "cell_type": "markdown",
   "id": "2d4eabad-9497-4ea5-8508-fccb4592c923",
   "metadata": {},
   "source": [
    "###  Closed Economy\n",
    "\n",
    " We're looking for a tangency between the PPF and the representative agent's indifference curve, equal to the common price ratio. This $MRS = p= MPT$ condition can be written:\n",
    "\n",
    "$$\n",
    "\\frac{1}{\\beta} \\frac{C_1 - \\gamma}{C_2} = p = \\frac{A_1 F_1^\\prime (n)}{A_2 F_2^\\prime (1-n)} \n",
    "$$\n",
    "\n",
    "Using the fact that a closed economy must produce what it consumes we can substitute $C_1 = A_1 F_1(n)$ and $C_2 = A_2 F_2(1-n)$ and manipulate to obtain condition (2) in Matsuyama:\n",
    "\n",
    "$$\n",
    "F_1(n) - \\frac{\\beta F_2(1-n) F_1 ^\\prime (n)}{F_2 ^\\prime (1-n)} = \\frac{\\gamma}{A_1}\n",
    "$$\n"
   ]
  },
  {
   "cell_type": "markdown",
   "id": "589755ad-cb80-4d7b-9ea9-273e4e3e77b5",
   "metadata": {},
   "source": [
    "This implicitly defines $n$ as a decreasing function of $A_1$.  Two things are striking here (both partly consequences of the Cobb-Douglas):\n",
    "\n",
    "1) $A_2$ plays no role. As $A_2$ rises $p$ falls by just enough to offset, leaving relative demand for labor unchanged.\n",
    "\n",
    "2) At any $\\gamma >0$ the agricultural labor share $n$ will fall with $A_1$. This is the Push effect.\n",
    "\n",
    "In the plot below we plot this left hand side in red. The dashed line represents a value of $\\frac{\\gamma}{A_1}$. We can see that if $A_1$ rises (the dashed line moves down) the new equilibrium will involve less agricultural labor $n$."
   ]
  },
  {
   "cell_type": "code",
   "execution_count": 9,
   "id": "6f44086a-8d4c-4882-97df-c35853892745",
   "metadata": {
    "tags": [
     "hide-input"
    ]
   },
   "outputs": [],
   "source": [
    "def lhs(n, a1, a2, beta):\n",
    "    F1 =  F(n, a1)\n",
    "    dF1 = Fprime(n, a1)\n",
    "    F2 =  F(1-n, a2)\n",
    "    dF2 = Fprime(1-n, a2)\n",
    "    return F1 - (beta*F2*dF1)/dF2  "
   ]
  },
  {
   "cell_type": "code",
   "execution_count": 10,
   "id": "f26e1d89-0c61-4f5d-b6dc-bd26bb5e8272",
   "metadata": {
    "tags": [
     "hide-input"
    ]
   },
   "outputs": [
    {
     "data": {
      "image/png": "[encoded data removed]",
      "text/plain": [
       "<Figure size 432x288 with 1 Axes>"
      ]
     },
     "metadata": {
      "needs_background": "light"
     },
     "output_type": "display_data"
    }
   ],
   "source": [
    "n = np.linspace(0.2,0.7,50)\n",
    "plt.plot(n, lhs(n, 0.5, 0.5, 0.5), color='r')\n",
    "plt.axhline(0);\n",
    "plt.axhline(0.5, linestyle='--')\n",
    "plt.xlabel(r'$n$');"
   ]
  },
  {
   "cell_type": "markdown",
   "id": "ba7ab826-c308-4633-a3d5-c09af5299922",
   "metadata": {},
   "source": [
    "We can solve for the closed economy equilibrium and plot things on a PPF diagram."
   ]
  },
  {
   "cell_type": "code",
   "execution_count": 11,
   "id": "1b7fff61-c339-4950-8107-9a3029a49f35",
   "metadata": {
    "tags": [
     "hide-input"
    ]
   },
   "outputs": [],
   "source": [
    "def neq(A1=1, a1=0.5, a2=0.5, beta=0.5, gamma= 0.5):\n",
    "    '''Closed economy eqn from MRS=MPT'''\n",
    "    def foc(n):\n",
    "        return  lhs(n, a1, a2, beta) - gamma/A1\n",
    "    \n",
    "    n = 0.7 # guess\n",
    "    ne = fsolve(foc, n)[0]\n",
    "    return ne"
   ]
  },
  {
   "cell_type": "code",
   "execution_count": 12,
   "id": "f6b2220e-b775-4035-9a29-0d948c79be97",
   "metadata": {
    "tags": [
     "hide-input"
    ]
   },
   "outputs": [],
   "source": [
    "def plot_opt(A1, A2, a1, a2, beta, gamma):\n",
    "    ne = neq(A1, a1, a2, beta, gamma)\n",
    "    Y1 = A1 * F(ne, a1)\n",
    "    Y2 = A2 * F(1-ne, a2)\n",
    "    p = (1/beta)  * (Y1-gamma)/Y2\n",
    "    print(f'A1={A1}, n={ne:0.2f}, p={p:0.2f}')\n",
    "    plt.scatter(Y1, Y2)\n",
    "    ax =plt.gca()\n",
    "    PPF(A1=A1, A2=A2, a1=a1, a2=a2, ax=ax)"
   ]
  },
  {
   "cell_type": "markdown",
   "id": "5e89eff0-5a9a-41c3-9210-5473ac132d6c",
   "metadata": {},
   "source": [
    "Here we see structural transformation and a rise in the relative price of manufactures as TFP in agriculture increases:"
   ]
  },
  {
   "cell_type": "code",
   "execution_count": 13,
   "id": "aee27c80-4ee3-4bc0-b56e-a15b097e48fc",
   "metadata": {
    "tags": [
     "hide-input"
    ]
   },
   "outputs": [
    {
     "name": "stdout",
     "output_type": "stream",
     "text": [
      "A1=1, n=0.58, p=0.70\n",
      "A1=2, n=0.48, p=1.63\n"
     ]
    },
    {
     "data": {
      "image/png": "[encoded data removed]",
      "text/plain": [
       "<Figure size 432x288 with 1 Axes>"
      ]
     },
     "metadata": {
      "needs_background": "light"
     },
     "output_type": "display_data"
    }
   ],
   "source": [
    "plot_opt(1, 1, 0.5, 0.75, 1, 0.4)\n",
    "plot_opt(2, 1, 0.5, 0.75, 1, 0.4)\n",
    "plt.xlim(left=0)\n",
    "plt.ylim(bottom=0);"
   ]
  },
  {
   "cell_type": "markdown",
   "id": "6e2b0fc2-bfa6-4c3d-ac79-509dbf246121",
   "metadata": {},
   "source": [
    "### Productivity growth caused by Structural Change"
   ]
  },
  {
   "cell_type": "markdown",
   "id": "6d92d74d-2cf2-4ae4-a151-6ff95e7369fb",
   "metadata": {},
   "source": [
    "Matsuyama adds dynamics to the sort of model described above by assuming that TFP growth in manufacturing might respond to \"the stock of experience accumulated [in that sector]... through learning-by-doing.\"  He captures this by positing that TFP in the sector in period $t$ is given by:\n",
    "\n",
    "$$\n",
    "A_{2t} = A(Q_t)\n",
    "$$\n",
    "\n",
    "where $Q_t$ is the stock of experience which follows this law of motion:\n",
    "\n",
    "$$\n",
    "\\frac{dQ_t}{dt} = H(1-n_t)\n",
    "$$"
   ]
  },
  {
   "cell_type": "markdown",
   "id": "f67e18e7-3430-4e53-ba24-c7475e0aa00d",
   "metadata": {},
   "source": [
    "where $H(\\cdot)$ is an increasing function. He assumes a critical level of manufacturing employment $(1-n_c)$ at which H(1-n_c)=0 (and negative at values below).  With these assumptions and if $n<n_c$ so the critical threshold is surpassed, this plus the earlier closed economy model leads to a version of the **'Staple Theory of Growth'** whereby growth in the agricultural sector releases labor to manufacturing which over time generates productivity growth there.  \n",
    "\n",
    "The **Staples Thesis** of Growth (Innis, Watkins, others) emphasizes the role of the expansion of frontiers and the growth of traditional 'staple' products such as wheat in a resource-rich economies. This has been used to explain growth and development in regions of the world including Canada, northern United States, and to some extent Australia, New Zealand and Argentina.  These countries benefited from an extraordinary rise in commodity prices in the late 19th century which, by many accounts led to the growth of supporting manufacturing industries, in a manner similar to that captured by this account.\n",
    "\n",
    "Matsuyama points out however that a variation on the same model can explain a version of the **resource curse**.  For example in the small open economy the equilibrium condition is as above:\n",
    "\n",
    "$$\n",
    "A_1 F_1^\\prime (n_t) = p A(Q_t) F_2^\\prime (1-n_t)\n",
    "$$\n",
    "\n",
    "As discussed before, raising $A_1$ implies higher $n_t$ for any level of $Q_t$.  If the economy is already passed the threshold $H(1-n_t)>0$ which leads to growth in manufacturing and hence pull out of agriculture, and the effect is self-reinforcing.\n",
    "\n",
    "However if below the threshold (i.e. $n_t>n_c$) and hence $H(1-n_t)<0$ anything that stimulates agriculture, be it productivity growth or a rise in the relative price of agricultural products, will lead to productivity *decline* in industry and a steady increase in agricultural employment $n_t$.\n",
    "\n",
    "This is a version of the so called *staple-trap,* *resource curse,* or *dutch disease*.  Matsuyama (1992) models this type of possibility in richer detail."
   ]
  },
  {
   "cell_type": "markdown",
   "id": "4f782dd2-f1a7-49d5-b189-6e11c34cc5ef",
   "metadata": {},
   "source": [
    "### Impediments to structural change"
   ]
  },
  {
   "cell_type": "markdown",
   "id": "0a6a789a-1adc-4c74-8830-f26c0dd749fb",
   "metadata": {},
   "source": [
    "Many studies have modeled impediments to the re-allocation of labor across sectors.   \n",
    "\n",
    "The most famous of these is the Lewis model which assumes workers in the agricultural sector earn an average product of labor there, leading to overemployment in the sector.  We'll see several models that try to make sense of this, for example models that attribute this to land property rights insecurity. \n",
    "\n",
    "Hayashi and Prescott (2008) argue that agricultural employment in Japan remained virtually constant at 14 million persons from 1885 to WWII (see image below) despite significant expansion in industrial technology capacity in that period. They argue that labor could not easily leave agriculture due to patriarchal customs and norms that made it hard for children of agricultural households to leave the parental household).  Using a calibrated general equilibrium model, the authors argue that the lifting of that barrier in the post-war era (due to various factors including legislation surrounding deep land reforms) explains a good part of the post-war Japanese miracle. "
   ]
  },
  {
   "cell_type": "markdown",
   "id": "3628ea53-4457-4f23-9dd2-c40c2faea66c",
   "metadata": {},
   "source": [
    "<img src=\"./media/Japan_agemp.png\" alt=\"Japan Ag employment\" class=\"bg-primary\" width=\"600px\">"
   ]
  },
  {
   "cell_type": "markdown",
   "id": "b7912f65-8215-4a69-9779-eb96b8118982",
   "metadata": {},
   "source": [
    "There are many other models with barriers or frictions in the structural transformation.  One famous model that received a lot of attentiun is the Harris and Todaro (1970) model.  See the separate notebook on this model. "
   ]
  },
  {
   "cell_type": "markdown",
   "id": "3140382c-6336-4104-9eeb-097ce486cdf3",
   "metadata": {},
   "source": [
    "### Spillovers, Complementarities, and Multiple Equilibria \n",
    "\n",
    "Coming soon."
   ]
  },
  {
   "cell_type": "markdown",
   "id": "3b9e5868-a895-4cd8-ae90-65022dca3d98",
   "metadata": {},
   "source": [
    "## References Cited\n",
    "\n",
    "Harris, J.R., Todaro, M.P., 1970. Migration, unemployment and development: a two-sector analysis. *The American economic review* 126–142.\n",
    "\n",
    "Hayashi, F., Prescott, E.C., 2008. The depressing effect of agricultural institutions on the prewar Japanese economy. *Journal of political Economy* 116, 573–632.\n",
    "\n",
    "Lewis, W.A., 1954. Economic development with unlimited supplies of labour. *The Manchester School* 22, 139–191.\n",
    "\n",
    "Matsuyama, K., 2008. Structural change. *The new Palgrave dictionary of economics* 2.\n",
    "\n",
    "Matsuyama, K., 1992. Agricultural productivity, comparative advantage, and economic growth. *Journal of economic theory* 58, 317–334.\n",
    "\n"
   ]
  }
 ],
 "metadata": {
  "kernelspec": {
   "display_name": "Python 3 (ipykernel)",
   "language": "python",
   "name": "python3"
  },
  "language_info": {
   "codemirror_mode": {
    "name": "ipython",
    "version": 3
   },
   "file_extension": ".py",
   "mimetype": "text/x-python",
   "name": "python",
   "nbconvert_exporter": "python",
   "pygments_lexer": "ipython3",
   "version": "3.7.11"
  },
  "widgets": {
   "application/vnd.jupyter.widget-state+json": {
    "state": {},
    "version_major": 2,
    "version_minor": 0
   }
  }
 },
 "nbformat": 4,
 "nbformat_minor": 5
}
