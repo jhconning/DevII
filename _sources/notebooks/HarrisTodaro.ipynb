{
 "cells": [
  {
   "cell_type": "markdown",
   "metadata": {},
   "source": [
    "# The Harris-Todaro Model\n",
    "## Migration, urban-bias, and the informal sector"
   ]
  },
  {
   "cell_type": "markdown",
   "metadata": {},
   "source": [
    "This model adapts a standard open-economy two-sector specific factors model (SFM) to study impediments and frictions in the structural transformation process.  \n",
    "\n",
    "* The two sectors are agriculture and 'modern-manufacturing'\n",
    "* Labor is mobile across the two sectors. The agricultural labor market is competitive. \n",
    "\n",
    "If the labor market in the modern manufacturing sector were also competitive this would be a standard model and labor would move until the wage was equalized across sector to a common market-clearing equilibrium wage $w^e$, at which point the sum of labor demands from each sector would equal the economy-wide labor supply $\\bar L$.\n",
    "\n",
    "$$L_a (w^e) + L_m (w^e) = \\bar L $$\n",
    "\n",
    "However, for institutional/political economy reasons, wages in one part of urban sector will be set artificially high, for example because of union activity or minimum-wage policies in that sector in a protected manufacturing sector. This institutionally imposed high wage will lead firms in that sector to cut back hiring but it will also attract migrants to urban areas, lured by the prospect of possibly landing a high-wage job in the urban sector.  \n",
    "\n",
    "Laborers can now either stay in the rural sector to earn wage equilibrium rural wage $w_r$ or migrate to the urban area where they may land either in \n",
    "\n",
    "  (a) the informal sector where they earn a low-productivity determined wage $w_u$ or \n",
    "  \n",
    "  (b) in the high-wage modern manufacturing sector where they earn the institutionally-determined wage $w_m$. \n",
    "  \n",
    "  The model assumes only urban dwellers can apply for modern-manufacturing and that jobs will be allocated via a lottery whenever jobs are in excess demand. \n",
    "\n",
    "  Depending on economic conditions the equilibrium outcome may be either inefficiently low migration or, under difference circumstances, an inefficiently large urban sector and 'urban-bias' (a larger than efficient urban with a large informal sector).  "
   ]
  },
  {
   "cell_type": "markdown",
   "metadata": {},
   "source": [
    "### Equilibrium migration"
   ]
  },
  {
   "cell_type": "markdown",
   "metadata": {},
   "source": [
    "Labor demand in each sector will depend on product prices. Without loss of generality and to simplify let's normalize $P_r = 1$ and now call $p = \\frac{P_r}{P_m}$ the relative price of agricultural goods. \n",
    "\n",
    "Rural labor demand $L_r(w)$ is found from\n",
    "\n",
    "$$p \\cdot F_L(\\bar T, L_r) = w$$\n",
    "\n",
    "and modern manufacturing sector labor demand $L_m(w)$ is from\n",
    "\n",
    "$$G_L(\\bar K, L_m) = w$$"
   ]
  },
  {
   "cell_type": "markdown",
   "metadata": {},
   "source": [
    "In equilibrium, labor in the urban formal and informal sector plus rural labor must add up to available supply.\n",
    "$$\n",
    "L_m + L_u + L_r = \\bar L\n",
    "$$\n",
    "\n",
    "\n",
    "Given the assumption that jobs in the high-wage manufacturing sector are allocated by fair lottery the equilibium probability of getting such a job will be given simply by the share of the urban sector labor force in that sector. \n",
    "\n",
    "Migration will take place until the rural wage is equalized to the *expected* wage of an urban resident:\n",
    "\n",
    "$$w_r = \\frac{L_m (w_m)}{L_u + L_m (w_m)} \\cdot w_m  + \\frac{L_u}{L_u + L_m (w_m)} \\cdot w_u $$\n",
    "\n",
    "Without loss of generality, lets normalize the informal sector wage $w_u=0$ (we'll change that later). The condition then simplifies to:\n",
    "\n",
    "$$w_r = \\frac{L_m (w_m)}{L_u + L_m (w_m)} \\cdot w_m  $$\n",
    "\n",
    "As $w_m$ is set exogenously by policy, labor use in the modern manufacturing sector will be fixed at $L_m (w_m)$.  Using the fact that $(L_u+L_m = \\bar L - L_r)$, This condition can be re-written as:"
   ]
  },
  {
   "cell_type": "markdown",
   "metadata": {},
   "source": [
    "$$ w_m \\cdot L_m = w_r \\cdot ({\\bar L  - L_r})  $$"
   ]
  },
  {
   "cell_type": "markdown",
   "metadata": {},
   "source": [
    "Since $\\bar L$, $w_m$ and $L_m = L_m(w_m)$ are all fixed quantities, this is an equation in two unknowns $w_r$ and $L_r$. We can solve for the two unknowns from a system of two equations. \n",
    "\n",
    "The first is this last equation which is a rectangular hyperbola of the form $x \\cdot y = \\kappa$, where here $x = \\bar L - L_r$ and $y = w_r$).  \n",
    "\n",
    "The other equation is the rural competitive factor pricing condition \n",
    "\n",
    "$$p \\cdot F_L(\\bar K_r, L_r) = w_r$$"
   ]
  },
  {
   "cell_type": "markdown",
   "metadata": {},
   "source": [
    "###  Diagram analysis"
   ]
  },
  {
   "cell_type": "markdown",
   "metadata": {},
   "source": [
    "Although this is a simple system of two non-linear equations in two unknowns, it's hard to get a tidy closed form solution for Cobb Douglas production functions. It is however easy to see the solution graphically and solve for it numerically. "
   ]
  },
  {
   "cell_type": "markdown",
   "metadata": {},
   "source": [
    "Suppose production in the agricultural and manufacturing were carried out by identical firms in each sector each employing the linear homogenous Cobb-Douglas technologies:\n",
    "\n",
    "$$G(\\bar T, L_r)=A_r \\bar T^{\\alpha} \\cdot  L_r^{1-\\alpha}$$\n",
    "\n",
    "$$F(\\bar K, L_m)=A_m \\bar K^{\\beta} \\cdot  L_m^{1-\\beta}$$"
   ]
  },
  {
   "cell_type": "markdown",
   "metadata": {},
   "source": [
    "Labor demand in manufacturing as a function of $w$:\n",
    "\n",
    "$$L_m(w_m) = \\left [ { \\frac{A_m (1-\\beta) \\bar K}{w_m/P_m} } \\right ]^\\frac{1}{\\beta} $$\n"
   ]
  },
  {
   "cell_type": "markdown",
   "metadata": {},
   "source": [
    "and rural labor demand:"
   ]
  },
  {
   "cell_type": "markdown",
   "metadata": {},
   "source": [
    "$$L_r(w_r) = \\left [ { \\frac{A_r (1-\\alpha) \\bar T}{w_r/P_r} } \\right ]^\\frac{1}{\\alpha} $$\n"
   ]
  },
  {
   "cell_type": "code",
   "execution_count": 1,
   "metadata": {
    "tags": [
     "hide-input"
    ]
   },
   "outputs": [],
   "source": [
    "import numpy as np\n",
    "import matplotlib.pyplot as plt\n",
    "from ipywidgets import interact\n",
    "from scipy.optimize import bisect, fsolve, newton\n",
    "import warnings\n",
    "warnings.filterwarnings(\"ignore\", category=np.VisibleDeprecationWarning) "
   ]
  },
  {
   "cell_type": "code",
   "execution_count": 2,
   "metadata": {
    "tags": [
     "hide-input"
    ]
   },
   "outputs": [],
   "source": [
    "Tbar = 200       # Fixed specific land in ag. \n",
    "Kbar = 200       # Fixed specific capital in manuf\n",
    "Lbar = 400       # Total number of mobile workers\n",
    "LbarMax = 400    # Lbar will be on slider, max value.\n",
    "A = 1\n",
    "p    = 1.00      # initial rel price of ag goods, p = Pa/Pm\n",
    "alpha, beta = 0.75, 0.5  # labor share in ag, manuf"
   ]
  },
  {
   "cell_type": "code",
   "execution_count": 3,
   "metadata": {
    "tags": [
     "hide-input"
    ]
   },
   "outputs": [],
   "source": [
    "def F(L,T, A=1, alpha=0.5):\n",
    "    return A*(T**alpha)*(L**(1-alpha))\n",
    "\n",
    "def G(L, K, A=1, beta=0.5):\n",
    "    return A*(K**beta)*(L**(1-beta))\n",
    "\n",
    "def mplr(L,T=Tbar, A=1, alpha=0.5):\n",
    "    return (1-alpha)*F(L,T,A,alpha)/L\n",
    "\n",
    "def mplm(L, K=Kbar, A=1, beta=0.5):\n",
    "    return (1-beta)*G(L,K,A,beta)/L\n",
    "\n",
    "def Lm(w, Kbar=Kbar, A=A, beta=beta):\n",
    "    return  Kbar*((p/w)*(A*(1-beta)))**(1/beta)\n",
    "\n",
    "def expret(Lr, wm):\n",
    "    return wm*Lm(wm)/(Lbar-Lr)\n",
    "\n",
    "def expwage(Lr, wm, wu):\n",
    "    return (wm*Lm(wm) + wu*(Lbar-Lm(wm)-Lr) )/(Lbar-Lr)"
   ]
  },
  {
   "cell_type": "markdown",
   "metadata": {},
   "source": [
    "The **efficient competitive equilibrium** is given by the point where these two labor demand curves intersect. We solve for the level of agricultural employment at which there is zero excess demand for agricultural labor. This gives an equilibrium agricultural labor demand economy-wide equilibrium wage."
   ]
  },
  {
   "cell_type": "code",
   "execution_count": 4,
   "metadata": {
    "tags": [
     "hide-input"
    ]
   },
   "outputs": [],
   "source": [
    "def effeq():\n",
    "    '''Find efficient market equilibrium and labor allocation'''\n",
    "    ed = lambda L: mplr(L) - mplm(Lbar-L)\n",
    "    L = Lbar/2   # guess\n",
    "    LE = fsolve(ed, L)[0]\n",
    "    return mplr(LE), LE"
   ]
  },
  {
   "cell_type": "markdown",
   "metadata": {},
   "source": [
    "A Harris-Todaro equilibrium is one where the rural wage equals the expected urban wage.  Diagramatically the equilibrium level of rural employtment is given by the intersection of the rural labor demand curve and the rectangular hyperbola running through $(w_m, L_m(w_m))$."
   ]
  },
  {
   "cell_type": "code",
   "execution_count": 5,
   "metadata": {
    "tags": [
     "hide-input"
    ]
   },
   "outputs": [],
   "source": [
    "def harristodaro(wm, wu):\n",
    "    LM = Lm(wm)\n",
    "    WE, LE = effeq()\n",
    "    hteq = lambda L: mplr(L) - (wm*LM + wu*(Lbar-LM-L) )/(Lbar-L)\n",
    "    L = Lbar/2\n",
    "    LR = fsolve(hteq, L)[0]\n",
    "    WR =  mplr(LR)\n",
    "    return WR, LR, LM, WE, LE\n",
    "\n",
    "def gdpratio(wm, wu):\n",
    "    '''Returns actual gdp as percent ofefficient possible.'''\n",
    "    WR, LR, LM, WE, LE = harristodaro(wm, wu)\n",
    "    gdpe = F(LE, Tbar, A, alpha) + p * G(Lbar-LE, Kbar, A, beta)\n",
    "    gdp =  F(LR, Tbar, A, alpha) + p * G(LM, Kbar, A,  beta) + wu*(Lbar - LR - LM)\n",
    "    return 100*gdp/gdpe"
   ]
  },
  {
   "cell_type": "markdown",
   "metadata": {},
   "source": [
    "This next function plots the diagram."
   ]
  },
  {
   "cell_type": "code",
   "execution_count": 6,
   "metadata": {
    "tags": [
     "hide-input"
    ]
   },
   "outputs": [],
   "source": [
    "def HTplot(wm, wu):\n",
    "    WR, LR, LM, WE, LE = harristodaro(wm, wu)\n",
    "    lr = np.arange(1,Lbar)\n",
    "    lup = np.arange(LR-20, Lbar-LM+20)  # plot over shorter range to avoid clutter\n",
    "    fig, ax = plt.subplots(figsize=(10,6))\n",
    "    ax.plot(lr[:-50], mplr(lr[:-50]), lw=2)\n",
    "    ax.plot(lr[50:], mplm(Lbar-lr[50:]), lw=2)\n",
    "    ax.plot(lup, expwage(lup, wm, wu), 'k',lw=1.5)\n",
    "    ax.vlines(LR,0,WR, linestyles=\"dashed\")\n",
    "    ax.vlines(Lbar-LM,0,wm,linestyles=\"dashed\")\n",
    "    ax.hlines(wm,Lbar,Lbar-LM, linestyles=\"dashed\")\n",
    "    ax.hlines(WR,LR,Lbar, linestyles=\"dashed\")\n",
    "    ax.plot(Lbar-LM,wm,'ob')\n",
    "    ax.text(Lbar,wm,'$w_m$',fontsize=16)\n",
    "    ax.text(LE,WE*1.05,'$E$',fontsize=16)\n",
    "    ax.text(LR, WR*1.10,'$Z$',fontsize=16)\n",
    "    ax.text(Lbar-LM-10,wm*1.05,'$D$',fontsize=16)\n",
    "    ax.text(Lbar, WR,'$w_r$',fontsize=16)\n",
    "    ax.plot([LE,LR, Lbar-LM],[WE, WR, wm],'ok')\n",
    "    ax.arrow(0, -0.05, LR-10, 0, head_width = 0.025, head_length = 5, clip_on = False)\n",
    "    ax.text(LR/2, -0.12,'$L_r$',fontsize=16)\n",
    "    ax.arrow(LR+3, -0.05, Lbar-LM-LR-10, 0, head_width = 0.025, head_length = 5, clip_on = False)\n",
    "    ax.arrow(Lbar-LM, -0.05, - (Lbar-LM-LR-10) , 0, head_width = 0.025, head_length = 5, clip_on = False)\n",
    "    ax.text(LR + (Lbar-LR-LM)/2, -0.12,'$L_u$',fontsize=16)\n",
    "    ax.arrow(Lbar, -0.05, -(LM-10) , 0, head_width = 0.025, head_length = 5, clip_on = False)\n",
    "    ax.text(Lbar-LM/2, -0.12,'$L_m$',fontsize=16)\n",
    "    ax.set_xlim(0, Lbar)\n",
    "    ax.set_ylim(0, 1.25)\n",
    "    ax.set_xlabel(r'$c_1$', fontsize=18)\n",
    "    ax.set_ylabel('$c_2$', fontsize=18)\n",
    "    ax.spines['top'].set_visible(False)\n",
    "    ax.get_xaxis().set_visible(False)\n",
    "    print(f'(wm, wr, wu) = ({wm:0.2f}, {WR:0.2f}, {wu:0.2f}); gdp loss = {100-gdpratio(wm,wu):0.0f}%', end ='')\n",
    "    if LR > LE:\n",
    "        print('  Inefficiently large ag sector')\n",
    "    elif LR<LE:    \n",
    "        print('  Urban Bias')"
   ]
  },
  {
   "cell_type": "markdown",
   "metadata": {},
   "source": [
    "The high institutional wage $w_m$ lowers demand for labor in the formal manufacturing sector relative to a competitive equilibiurm. In the Harris-Todaro model it's not apriori obvious whether the high institutional wage in the formal manufacturing sector will increase or decrease the size of the urban sector relative to the efficient competitive equilibrium.  Migrants have to weigh the lower probability of landing a formal sector job against the higher wage they will capture if they are lucky enough to get a job.  \n",
    "\n",
    "### Inefficiently large agricultural sector\n",
    "If we assume the informal sector (or unemployment) wage is zero, then for our Cobb-Douglas demands the following diagram suggests the policy creates an informal urban sector but overall reduces the size of the size of the urban sector relative to the rural sector, compared to the efficient competitive equilibrium. "
   ]
  },
  {
   "cell_type": "code",
   "execution_count": 7,
   "metadata": {
    "tags": [
     "hide-input"
    ]
   },
   "outputs": [
    {
     "name": "stdout",
     "output_type": "stream",
     "text": [
      "(wm, wr, wu) = (0.90, 0.43, 0.00); gdp loss = 18%  Inefficiently large ag sector\n"
     ]
    },
    {
     "data": {
      "image/png": "[encoded data removed]",
      "text/plain": [
       "<Figure size 720x432 with 1 Axes>"
      ]
     },
     "metadata": {
      "needs_background": "light"
     },
     "output_type": "display_data"
    }
   ],
   "source": [
    "HTplot(wm = 0.9, wu = 0)"
   ]
  },
  {
   "cell_type": "markdown",
   "metadata": {},
   "source": [
    "### Urban Bias\n",
    "\n",
    "If we make the informal sector sufficiently attractive it is possible to get 'urban-bias' or an excessively small agricultural sector relative to the efficient allocation. \n",
    "\n",
    "For the following diagram we first make note of the efficient equilibrium wage and rural sector size:"
   ]
  },
  {
   "cell_type": "code",
   "execution_count": 8,
   "metadata": {
    "tags": [
     "hide-input"
    ]
   },
   "outputs": [
    {
     "name": "stdout",
     "output_type": "stream",
     "text": [
      "The efficient competitive wage is w = 0.50 and the rural sector is Lr =  200\n"
     ]
    }
   ],
   "source": [
    "WE, LE = effeq()\n",
    "print('The efficient competitive wage is w ={:5.2f} and the rural sector is Lr ={:5.0f}'.format(WE, LE))"
   ]
  },
  {
   "cell_type": "markdown",
   "metadata": {},
   "source": [
    "Suppose that workers in the informal sector have access to a low-productivity occupation which pays a wage below this efficient level.  That means that in an efficient allocation workers would earn more in either formal manufacturing or the rural sector and hence there would be no informal sector in equilibrium. \n",
    "\n",
    "However, the existence of this low-productivity option in the urban informal sector raises the expected return to migration in the Harris-Todaro distorted equilibrium. This may result in a smaller than efficient rural sector, as illustrated below:"
   ]
  },
  {
   "cell_type": "code",
   "execution_count": 9,
   "metadata": {
    "tags": [
     "hide-input"
    ]
   },
   "outputs": [
    {
     "name": "stdout",
     "output_type": "stream",
     "text": [
      "(wm, wr, wu) = (0.90, 0.56, 0.45); gdp loss = 5%  Urban Bias\n"
     ]
    },
    {
     "data": {
      "image/png": "[encoded data removed]",
      "text/plain": [
       "<Figure size 720x432 with 1 Axes>"
      ]
     },
     "metadata": {
      "needs_background": "light"
     },
     "output_type": "display_data"
    }
   ],
   "source": [
    "HTplot(wm = 0.9, wu = 0.45)"
   ]
  },
  {
   "cell_type": "markdown",
   "metadata": {},
   "source": [
    "### Interactive plot"
   ]
  },
  {
   "cell_type": "code",
   "execution_count": 10,
   "metadata": {},
   "outputs": [
    {
     "data": {
      "application/vnd.jupyter.widget-view+json": {
       "model_id": "69492ee565cc4a1588ed3e15bea7b020",
       "version_major": 2,
       "version_minor": 0
      },
      "text/plain": [
       "interactive(children=(FloatSlider(value=1.1, description='wm', max=1.7500000000000004, min=0.5000000000000001,…"
      ]
     },
     "metadata": {},
     "output_type": "display_data"
    },
    {
     "data": {
      "image/png": "[encoded data removed]",
      "text/plain": [
       "<Figure size 720x432 with 1 Axes>"
      ]
     },
     "metadata": {
      "needs_background": "light"
     },
     "output_type": "display_data"
    }
   ],
   "source": [
    "interact(HTplot, wm =(WE,3.5*WE,0.05), wu=(0,WE,0.05));"
   ]
  },
  {
   "cell_type": "markdown",
   "metadata": {},
   "source": [
    "### Extensions"
   ]
  },
  {
   "cell_type": "markdown",
   "metadata": {},
   "source": [
    "#### Harris Todaro and Inequality\n",
    "\n",
    "Jonathan Temple's (2005) \"[Growth and Wage Inequality in a dual economy](http://www.efm.bris.ac.uk/ecjrwt/abstracts/templeberfinalversion.pdf)\" makes some simple points about wage inequality in the HT model.  He shows that in the case of $wu = $ the Gini coefficient can be written simply:\n",
    "\n",
    "$$Gini = L_u(2-\\frac{L_u}{u})$$\n",
    "\n",
    "where here $L_u$ is the *proportion* of the labor force in unemployment and $u$ (slightly redefining what we had above... or, same thing, if we normalize the total labor force to 1) and $u$ is urban unemployment rate or the fraction of the unemployed in the urban population (i.e. $u=\\frac{L_u}{L_u+L_m}$).  From this one can prove that inequality will unambiguously rise if one of the following statements holds if the urban unemployment rate $u$:\n",
    "\n",
    " - rises, and the number of unemployed $L_u$ goes up.\n",
    " - is constant, and the number of unemployed $L_u$ rises. Modern sector employment rises, and agricultural employment falls.\n",
    " - rises, and the number of unemployed is constant. Modern sector employment falls, and agricultural employment rises\n",
    " \n",
    "Another result is that rural growth (driven say by improved agricultural technology) leads to an unambiguous reduction in wage inequality. The effects of urban growth are ambiguous.  \n",
    "\n",
    "Below we plot the Lorenz curve and slightly extend Temple's analysis to the case where 'the unemployed' (or informal sector workers) earn a non-zero wage.  For now we simply focus on calculating the Gini numerically. \n",
    "\n",
    "(note/fix: GINI CALCULATION DOES NOT SEEM RIGHT)"
   ]
  },
  {
   "cell_type": "code",
   "execution_count": 11,
   "metadata": {
    "tags": [
     "hide-input"
    ]
   },
   "outputs": [],
   "source": [
    "def htlorenz(wm, wu):\n",
    "    WR, LR, LM, WE, LE = harristodaro(wm, wu)\n",
    "    lrp = LR/Lbar\n",
    "    lmp = LM/Lbar\n",
    "    lup = 1 - lrp -lmp\n",
    "    ytot = wu*(1-lrp-lmp) + WR*lrp + wm*lmp\n",
    "    yup = wu*(1-lrp-lmp)/ytot\n",
    "    yrp = WR*lrp/ytot\n",
    "    ymp = wm*lmp/ytot\n",
    "    A = 0.5 - (yup*((1-lup)+ 0.5*lup)+(yrp-yup)*(lmp+0.5*lrp)+0.5*lmp*(ymp))\n",
    "    Gini = 2*A\n",
    "    gtext = \"Gini ={:5.2f}\".format(Gini)\n",
    "    fig, ax = plt.subplots(figsize=(6,6))\n",
    "    ax.plot([0,lup,lup+lrp,1],[0,yup,yup+yrp,1] , lw=2)\n",
    "    ax.plot([0,1],[0,1], 'k--', lw=1)\n",
    "    ax.text(0.2,0.8,gtext,fontsize=16)"
   ]
  },
  {
   "cell_type": "code",
   "execution_count": 12,
   "metadata": {
    "tags": []
   },
   "outputs": [
    {
     "data": {
      "application/vnd.jupyter.widget-view+json": {
       "model_id": "94fa40f84697494c9d5f8d78c522318b",
       "version_major": 2,
       "version_minor": 0
      },
      "text/plain": [
       "interactive(children=(FloatSlider(value=1.1, description='wm', max=1.7500000000000004, min=0.5000000000000001,…"
      ]
     },
     "metadata": {},
     "output_type": "display_data"
    },
    {
     "data": {
      "text/plain": [
       "<function __main__.htlorenz(wm, wu)>"
      ]
     },
     "execution_count": 12,
     "metadata": {},
     "output_type": "execute_result"
    },
    {
     "data": {
      "image/png": "[encoded data removed]",
      "text/plain": [
       "<Figure size 432x432 with 1 Axes>"
      ]
     },
     "metadata": {
      "needs_background": "light"
     },
     "output_type": "display_data"
    }
   ],
   "source": [
    "WM, WU = 0.9,0\n",
    "WR, LR, LM, WE, LE = harristodaro(WM, WU)\n",
    "interact(htlorenz, wm =(WE,3.5*WE,0.05),wu=(0,WE,0.05))"
   ]
  }
 ],
 "metadata": {
  "anaconda-cloud": {},
  "kernelspec": {
   "display_name": "Python 3 (ipykernel)",
   "language": "python",
   "name": "python3"
  },
  "language_info": {
   "codemirror_mode": {
    "name": "ipython",
    "version": 3
   },
   "file_extension": ".py",
   "mimetype": "text/x-python",
   "name": "python",
   "nbconvert_exporter": "python",
   "pygments_lexer": "ipython3",
   "version": "3.7.11"
  },
  "widgets": {
   "application/vnd.jupyter.widget-state+json": {
    "state": {
     "09c836c835c2472eb94c5ea6b12db24c": {
      "model_module": "@jupyter-widgets/output",
      "model_module_version": "1.0.0",
      "model_name": "OutputModel",
      "state": {
       "layout": "IPY_MODEL_d02a0cb6b1dd473a8a3fb347bbaa9a98"
      }
     },
     "19c65307463b4d728530d6acc9cfcb41": {
      "model_module": "@jupyter-widgets/controls",
      "model_module_version": "1.5.0",
      "model_name": "SliderStyleModel",
      "state": {
       "description_width": ""
      }
     },
     "20ed013d1a6146c8a1b72813b6fde566": {
      "model_module": "@jupyter-widgets/controls",
      "model_module_version": "1.5.0",
      "model_name": "SliderStyleModel",
      "state": {
       "description_width": ""
      }
     },
     "28526ed4ba2a41efa310963c6a7c40db": {
      "model_module": "@jupyter-widgets/controls",
      "model_module_version": "1.5.0",
      "model_name": "FloatSliderModel",
      "state": {
       "description": "wu",
       "layout": "IPY_MODEL_44c4157ab92d40ad8a88078004d804d1",
       "max": 0.5000000000000001,
       "step": 0.05,
       "style": "IPY_MODEL_47befe68e79a483ea706d87d684ad9bf",
       "value": 0.25
      }
     },
     "3060273894604704a982183b6582027c": {
      "model_module": "@jupyter-widgets/output",
      "model_module_version": "1.0.0",
      "model_name": "OutputModel",
      "state": {
       "layout": "IPY_MODEL_5af8df1a2ae14f2d8d674819a9efc933",
       "outputs": [
        {
         "name": "stdout",
         "output_type": "stream",
         "text": "(wm, wr, wu) = (1.10, 0.46, 0.25); gdp loss = 17%  Inefficiently large ag sector\n"
        }
       ]
      }
     },
     "39e14b83cc93493f8b9518d4ea9831b6": {
      "model_module": "@jupyter-widgets/base",
      "model_module_version": "1.2.0",
      "model_name": "LayoutModel",
      "state": {}
     },
     "44c4157ab92d40ad8a88078004d804d1": {
      "model_module": "@jupyter-widgets/base",
      "model_module_version": "1.2.0",
      "model_name": "LayoutModel",
      "state": {}
     },
     "47befe68e79a483ea706d87d684ad9bf": {
      "model_module": "@jupyter-widgets/controls",
      "model_module_version": "1.5.0",
      "model_name": "SliderStyleModel",
      "state": {
       "description_width": ""
      }
     },
     "5af8df1a2ae14f2d8d674819a9efc933": {
      "model_module": "@jupyter-widgets/base",
      "model_module_version": "1.2.0",
      "model_name": "LayoutModel",
      "state": {}
     },
     "69492ee565cc4a1588ed3e15bea7b020": {
      "model_module": "@jupyter-widgets/controls",
      "model_module_version": "1.5.0",
      "model_name": "VBoxModel",
      "state": {
       "_dom_classes": [
        "widget-interact"
       ],
       "children": [
        "IPY_MODEL_e140241e67634fff8878961ee0574503",
        "IPY_MODEL_28526ed4ba2a41efa310963c6a7c40db",
        "IPY_MODEL_3060273894604704a982183b6582027c"
       ],
       "layout": "IPY_MODEL_a3cd6e6d75164611a981ac7abc0e8b32"
      }
     },
     "7ecda2ed97af4958bcb748bd7bb44171": {
      "model_module": "@jupyter-widgets/base",
      "model_module_version": "1.2.0",
      "model_name": "LayoutModel",
      "state": {}
     },
     "94fa40f84697494c9d5f8d78c522318b": {
      "model_module": "@jupyter-widgets/controls",
      "model_module_version": "1.5.0",
      "model_name": "VBoxModel",
      "state": {
       "_dom_classes": [
        "widget-interact"
       ],
       "children": [
        "IPY_MODEL_c0f22533650d429dba63d1317d5cc92a",
        "IPY_MODEL_a1ebd073f8ea40978d84ef8825300d9c",
        "IPY_MODEL_09c836c835c2472eb94c5ea6b12db24c"
       ],
       "layout": "IPY_MODEL_7ecda2ed97af4958bcb748bd7bb44171"
      }
     },
     "a1ebd073f8ea40978d84ef8825300d9c": {
      "model_module": "@jupyter-widgets/controls",
      "model_module_version": "1.5.0",
      "model_name": "FloatSliderModel",
      "state": {
       "description": "wu",
       "layout": "IPY_MODEL_b7c5e6f650be44539101f7684ce651f6",
       "max": 0.5000000000000001,
       "step": 0.05,
       "style": "IPY_MODEL_a7671fd2504d4a8991ed3e1b36a59217",
       "value": 0.25
      }
     },
     "a3cd6e6d75164611a981ac7abc0e8b32": {
      "model_module": "@jupyter-widgets/base",
      "model_module_version": "1.2.0",
      "model_name": "LayoutModel",
      "state": {}
     },
     "a7671fd2504d4a8991ed3e1b36a59217": {
      "model_module": "@jupyter-widgets/controls",
      "model_module_version": "1.5.0",
      "model_name": "SliderStyleModel",
      "state": {
       "description_width": ""
      }
     },
     "b4e97f5ff4504b188f67320186e82b4c": {
      "model_module": "@jupyter-widgets/base",
      "model_module_version": "1.2.0",
      "model_name": "LayoutModel",
      "state": {}
     },
     "b7c5e6f650be44539101f7684ce651f6": {
      "model_module": "@jupyter-widgets/base",
      "model_module_version": "1.2.0",
      "model_name": "LayoutModel",
      "state": {}
     },
     "c0f22533650d429dba63d1317d5cc92a": {
      "model_module": "@jupyter-widgets/controls",
      "model_module_version": "1.5.0",
      "model_name": "FloatSliderModel",
      "state": {
       "description": "wm",
       "layout": "IPY_MODEL_39e14b83cc93493f8b9518d4ea9831b6",
       "max": 1.7500000000000004,
       "min": 0.5000000000000001,
       "step": 0.05,
       "style": "IPY_MODEL_19c65307463b4d728530d6acc9cfcb41",
       "value": 1.1
      }
     },
     "d02a0cb6b1dd473a8a3fb347bbaa9a98": {
      "model_module": "@jupyter-widgets/base",
      "model_module_version": "1.2.0",
      "model_name": "LayoutModel",
      "state": {}
     },
     "e140241e67634fff8878961ee0574503": {
      "model_module": "@jupyter-widgets/controls",
      "model_module_version": "1.5.0",
      "model_name": "FloatSliderModel",
      "state": {
       "description": "wm",
       "layout": "IPY_MODEL_b4e97f5ff4504b188f67320186e82b4c",
       "max": 1.7500000000000004,
       "min": 0.5000000000000001,
       "step": 0.05,
       "style": "IPY_MODEL_20ed013d1a6146c8a1b72813b6fde566",
       "value": 1.1
      }
     }
    },
    "version_major": 2,
    "version_minor": 0
   }
  }
 },
 "nbformat": 4,
 "nbformat_minor": 4
}
