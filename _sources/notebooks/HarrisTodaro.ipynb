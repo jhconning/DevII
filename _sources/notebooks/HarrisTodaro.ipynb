{
 "cells": [
  {
   "cell_type": "markdown",
   "metadata": {},
   "source": [
    "# The Harris-Todaro Model\n",
    "## Migration, urban-bias, and the informal sector"
   ]
  },
  {
   "cell_type": "markdown",
   "metadata": {},
   "source": [
    ">Harris, J.R., Todaro, M.P., 1970. Migration, unemployment and development: a two-sector analysis. *The American Economic Review* 126–142.\n",
    "\n",
    "\n",
    "This remains one of the most cited and influential papers in development economics (with [10700+](https://scholar.google.com/scholar?cites=8165441532168440908&as_sdt=5,33&sciodt=0,33&hl=en) google scholar citations). It's perhaps partly due to its elegant simplicity -- a simple clever variation on an otherwise quite neo-classical model delivers a rich model of economic migration, that also helps understand dualism and an urban informal sector. Appearing as it did in 1970 it also came to form part of the critique of some import-substituting industrialization (ISI) policies, particularly those in Latin America which critics felt were artificially protecting capital-intensive 'modern' industries (e.g. car manufacture) in urban areas.  This generated economic rents for its owners and the workers lucky enough to capture high-paying jobs in those industries who then often became politically organized to keep protections in place.  The Harris-Todaro model demonstrated possible unintended general equilibrium consequences of such policies, including urban-bias leading to rapid inefficient urbanization and the growth of the urban informal sector."
   ]
  },
  {
   "cell_type": "markdown",
   "metadata": {},
   "source": [
    "This model adapts a standard open-economy two-sector specific factors model (SFM) to study impediments and frictions in the structural transformation process.  \n",
    "\n",
    "* The two sectors are agriculture and 'modern-manufacturing'\n",
    "* Labor is mobile across the two sectors. The agricultural labor market is competitive. \n",
    "\n",
    "If the labor market in the modern manufacturing sector were competitive this would be a standard model and labor would move until the wage was equalized across sector to a common market-clearing equilibrium wage $w^e$, at which point the sum of labor demands from each sector would equal the economy-wide labor supply $\\bar L$.\n",
    "\n",
    "$$L_a (w^e) + L_m (w^e) = \\bar L $$\n",
    "\n",
    "The model assumes instead that for institutional/political economy reasons, wages in one part of urban sector are set artificially high, maybe because of union activity or minimum-wage policies (in a policy environment where the sector may be receiving trade protection), or perhaps for efficiency-wage considerations (Shapiro, Stiglitz, 1984). This institutionally imposed high wage will lead firms in that sector to cut back hiring but the possibility of landing one of these high-prized jobs may also serve to attract migrants to urban areas.  \n",
    "\n",
    "Laborers can now either stay in the rural sector to earn wage equilibrium rural wage $w_r$ or migrate to the urban area where they may land either in \n",
    "\n",
    "  (a) the informal sector where they earn a low-productivity determined wage $w_u$ or \n",
    "  \n",
    "  (b) in the high-wage modern manufacturing sector where they earn the institutionally-determined wage $w_m$. \n",
    "  \n",
    "  The model assumes only urban dwellers can apply for modern-manufacturing and that jobs will be allocated via a lottery whenever jobs are in excess demand. \n",
    "\n",
    "  Depending on economic conditions the equilibrium outcome may be either inefficiently low migration or, under difference circumstances, an inefficiently large urban sector and 'urban-bias' (a larger than efficient urban with a large informal sector).  "
   ]
  },
  {
   "cell_type": "markdown",
   "metadata": {},
   "source": [
    "### Equilibrium migration"
   ]
  },
  {
   "cell_type": "markdown",
   "metadata": {},
   "source": [
    "Without loss of generality and to simplify let's call $p = \\frac{P_r}{P_m}$ the relative price of agricultural goods. \n",
    "\n",
    "The rural labor demand $L_r(w)$ function is derived from\n",
    "\n",
    "$$p \\cdot F_L(\\bar T, L_r) = w$$\n",
    "\n",
    "and modern manufacturing sector labor demand $L_m(w)$ from\n",
    "\n",
    "$$G_L(\\bar K, L_m) = w$$"
   ]
  },
  {
   "cell_type": "markdown",
   "metadata": {},
   "source": [
    "The modern manufacturing sector wage $w_m$ will be fixed and set institutionally, so we can determine labor demand by $L_m = L_m(w_m)$.\n",
    "\n",
    "The urban underemployed earn livelihoods from a fall-back survival technology that pays them a low fixed $w_u$ per unit of labor. The amount of labor $L_u$ that flows into this sector will be endogenous: earnings in this sector will be lower than in the rural sector in equilibrium but the sector nonetheless attracts migrants as a staging ground for possibly capturing a position in the high wage modern sector.\n",
    "\n",
    "In equilibrium, labor in the urban formal and informal sector plus rural labor must add up to available supply.\n",
    "$$\n",
    "L_m + L_u + L_r = \\bar L\n",
    "$$\n",
    "\n",
    "The high-wage manufacturing sector are allocated by fair lottery the equilibium probability of getting such a job will be given simply by the share of the urban sector labor force in that sector. Migration will take place until the rural wage is equalized to the *expected* wage of an urban resident:\n",
    "\n",
    "$$w_r = \\frac{L_m (w_m)}{L_u + L_m (w_m)} \\cdot w_m  + \\frac{L_u}{L_u + L_m (w_m)} \\cdot w_u $$\n",
    "\n",
    "To get the simplest solutions, let's first normalize the informal sector wage $w_u=0$ (we'll change that later). The condition then simplifies to:\n",
    "\n",
    "$$w_r = \\frac{L_m (w_m)}{L_u + L_m (w_m)} \\cdot w_m  $$\n",
    "\n",
    "As $w_m$ is set exogenously, labor use in the modern manufacturing sector will also be fixed at $L_m (w_m)$.  Using this fact and that $(L_u+L_m = \\bar L - L_r)$, th condition can be re-written as:"
   ]
  },
  {
   "cell_type": "markdown",
   "metadata": {},
   "source": [
    "$$ w_m \\cdot L_m = w_r \\cdot ({\\bar L  - L_r})  $$"
   ]
  },
  {
   "cell_type": "markdown",
   "metadata": {},
   "source": [
    "As $\\bar L$, $w_m$ and $L_m = L_m(w_m)$ are all fixed quantities, this is an equation in two unknowns $w_r$ and $L_r$. We can solve for the two unknowns from a system of two equations. \n",
    "\n",
    "The first is this last equation which is a rectangular hyperbola of the form $x \\cdot y = \\kappa$, where here $x = \\bar L - L_r$ and $y = w_r$).  \n",
    "\n",
    "The other equation is the rural competitive factor pricing condition \n",
    "\n",
    "$$p \\cdot F_L(\\bar K_r, L_r) = w_r$$"
   ]
  },
  {
   "cell_type": "markdown",
   "metadata": {},
   "source": [
    "###  Diagram analysis"
   ]
  },
  {
   "cell_type": "markdown",
   "metadata": {},
   "source": [
    "Although this is a simple system of just two non-linear equations, it's hard to get tidy closed form solutions for Cobb Douglas production functions. It is however easy to see the solution graphically and solve for it numerically. "
   ]
  },
  {
   "cell_type": "markdown",
   "metadata": {},
   "source": [
    "Production in the agricultural and manufacturing are carried out by identical firms in each sector each employing the linear homogenous Cobb-Douglas technologies:\n",
    "\n",
    "$$G(\\bar T, L_r)=A_r \\bar T^{\\alpha} \\cdot  L_r^{1-\\alpha}$$\n",
    "\n",
    "$$F(\\bar K, L_m)=A_m \\bar K^{\\beta} \\cdot  L_m^{1-\\beta}$$"
   ]
  },
  {
   "cell_type": "markdown",
   "metadata": {},
   "source": [
    "Labor demand in manufacturing as a function of $w$:\n",
    "\n",
    "$$L_m(w_m) = \\left [ { \\frac{A_m (1-\\beta) \\bar K}{w_m/P_m} } \\right ]^\\frac{1}{\\beta} $$\n"
   ]
  },
  {
   "cell_type": "markdown",
   "metadata": {},
   "source": [
    "and rural labor demand:"
   ]
  },
  {
   "cell_type": "markdown",
   "metadata": {},
   "source": [
    "$$L_r(w_r) = \\left [ { \\frac{A_r (1-\\alpha) \\bar T}{w_r/P_r} } \\right ]^\\frac{1}{\\alpha} $$\n"
   ]
  },
  {
   "cell_type": "code",
   "execution_count": 1,
   "metadata": {
    "tags": [
     "hide-input"
    ]
   },
   "outputs": [],
   "source": [
    "import numpy as np\n",
    "import matplotlib.pyplot as plt\n",
    "from ipywidgets import interact\n",
    "from scipy.optimize import bisect, fsolve, newton\n",
    "import warnings\n",
    "warnings.filterwarnings(\"ignore\", category=np.VisibleDeprecationWarning) "
   ]
  },
  {
   "cell_type": "markdown",
   "metadata": {},
   "source": [
    "Let's fix ideas, let's set some parameters for this economy:"
   ]
  },
  {
   "cell_type": "code",
   "execution_count": 2,
   "metadata": {
    "tags": []
   },
   "outputs": [],
   "source": [
    "Tbar = 200       # Fixed specific land in ag. \n",
    "Kbar = 200       # Fixed specific capital in manuf\n",
    "Lbar = 400       # Total number of mobile workers\n",
    "LbarMax = 400    # Lbar will be on slider, max value.\n",
    "Ar, Am  = 1, 1\n",
    "p    = 1.00      # initial rel price of ag goods, p = Pa/Pm\n",
    "alpha, beta = 0.5, 0.5  # labor share in ag, manuf"
   ]
  },
  {
   "cell_type": "code",
   "execution_count": 3,
   "metadata": {
    "tags": [
     "hide-input"
    ]
   },
   "outputs": [],
   "source": [
    "def F(L,T, A=Ar, alpha=alpha):\n",
    "    return A*(T**alpha)*(L**(1-alpha))\n",
    "\n",
    "def G(L, K, A=Am, beta=beta):\n",
    "    return A*(K**beta)*(L**(1-beta))\n",
    "\n",
    "def mplr(L,T=Tbar, A=Ar, alpha=alpha):\n",
    "    return (1-alpha)*F(L,T,A,alpha)/L\n",
    "\n",
    "def mplm(L, K=Kbar, A=Am, beta=beta):\n",
    "    return (1-beta)*G(L,K,A,beta)/L\n",
    "\n",
    "def Lm(w, Kbar=Kbar, A=Am, beta=beta):\n",
    "    return  Kbar*((p/w)*(A*(1-beta)))**(1/beta)\n",
    "\n",
    "def expret(Lr, wm):\n",
    "    return wm*Lm(wm)/(Lbar-Lr)\n",
    "\n",
    "def expwage(Lr, wm, wu):\n",
    "    return (wm*Lm(wm) + wu*(Lbar-Lm(wm)-Lr) )/(Lbar-Lr)"
   ]
  },
  {
   "cell_type": "markdown",
   "metadata": {},
   "source": [
    "The **efficient competitive equilibrium** is given by the point where these two labor demand curves intersect. We solve for the level of agricultural employment at which there is zero excess demand for agricultural labor. This gives an equilibrium agricultural labor demand economy-wide equilibrium wage."
   ]
  },
  {
   "cell_type": "code",
   "execution_count": 4,
   "metadata": {
    "tags": [
     "hide-input"
    ]
   },
   "outputs": [],
   "source": [
    "def effeq():\n",
    "    '''Find efficient market equilibrium and labor allocation'''\n",
    "    ed = lambda L: mplr(L,Tbar,Ar,alpha) - mplm(Lbar-L, Kbar, Am, beta)\n",
    "    L = Lbar/2   # guess\n",
    "    LE = fsolve(ed, L)[0]\n",
    "    return mplr(LE,Tbar,Ar,alpha), LE"
   ]
  },
  {
   "cell_type": "markdown",
   "metadata": {},
   "source": [
    "A Harris-Todaro equilibrium is one where the rural wage equals the expected urban wage.  Diagramatically the equilibrium level of rural employtment is given by the intersection of the rural labor demand curve and the rectangular hyperbola running through $(w_m, L_m(w_m))$."
   ]
  },
  {
   "cell_type": "code",
   "execution_count": 5,
   "metadata": {
    "tags": [
     "hide-input"
    ]
   },
   "outputs": [],
   "source": [
    "def harristodaro(wm, wu):\n",
    "    LM = Lm(wm)\n",
    "    WE, LE = effeq()\n",
    "    hteq = lambda L: mplr(L) - (wm*LM + wu*(Lbar-LM-L) )/(Lbar-L)\n",
    "    L = Lbar/2\n",
    "    LR = fsolve(hteq, L)[0]\n",
    "    WR =  mplr(LR)\n",
    "    return WR, LR, LM, WE, LE\n",
    "\n",
    "def gdpratio(wm, wu):\n",
    "    '''Returns actual gdp as percent of efficient potential.'''\n",
    "    WR, LR, LM, WE, LE = harristodaro(wm, wu)\n",
    "    gdpe = F(LE, Tbar, Ar, alpha) + p * G(Lbar-LE, Kbar, Am, beta)\n",
    "    gdp =  F(LR, Tbar, Ar, alpha) + p * G(LM, Kbar, Am,  beta) + wu*(Lbar - LR - LM)\n",
    "    return 100*gdp/gdpe"
   ]
  },
  {
   "cell_type": "markdown",
   "metadata": {},
   "source": [
    "This next function plots the diagram."
   ]
  },
  {
   "cell_type": "code",
   "execution_count": 6,
   "metadata": {
    "tags": [
     "hide-input"
    ]
   },
   "outputs": [],
   "source": [
    "def HTplot(wm, wu):\n",
    "    WR, LR, LM, WE, LE = harristodaro(wm, wu)\n",
    "    lr = np.arange(1,Lbar)\n",
    "    lup = np.arange(LR-20, Lbar-LM+20)  # plot over shorter range to avoid clutter\n",
    "    fig, ax = plt.subplots(figsize=(10,6))\n",
    "    ax.plot(lr[:-50], mplr(lr[:-50]), lw=2)\n",
    "    ax.plot(lr[50:], mplm(Lbar-lr[50:]), lw=2)\n",
    "    ax.plot(lup, expwage(lup, wm, wu), 'k',lw=1.5)\n",
    "    ax.vlines(LR,0,WR, linestyles=\"dashed\")\n",
    "    ax.vlines(Lbar-LM,0,wm,linestyles=\"dashed\")\n",
    "    ax.hlines(wm,Lbar,Lbar-LM, linestyles=\"dashed\")\n",
    "    ax.hlines(WR,LR,Lbar, linestyles=\"dashed\")\n",
    "    ax.plot(Lbar-LM,wm,'ob')\n",
    "    ax.text(Lbar,wm,'$w_m$',fontsize=16)\n",
    "    ax.text(LE,WE*1.05,'$E$',fontsize=16)\n",
    "    ax.text(LR, WR*1.10,'$Z$',fontsize=16)\n",
    "    ax.text(Lbar-LM-10,wm*1.05,'$D$',fontsize=16)\n",
    "    ax.text(Lbar, WR,'$w_r$',fontsize=16)\n",
    "    ax.plot([LE,LR, Lbar-LM],[WE, WR, wm],'ok')\n",
    "    ax.arrow(0, -0.05, LR-10, 0, head_width = 0.025, head_length = 5, clip_on = False)\n",
    "    ax.text(LR/2, -0.12,'$L_r$',fontsize=16)\n",
    "    ax.arrow(LR+3, -0.05, Lbar-LM-LR-10, 0, head_width = 0.025, head_length = 5, clip_on = False)\n",
    "    ax.arrow(Lbar-LM, -0.05, - (Lbar-LM-LR-10) , 0, head_width = 0.025, head_length = 5, clip_on = False)\n",
    "    ax.text(LR + (Lbar-LR-LM)/2, -0.12,'$L_u$',fontsize=16)\n",
    "    ax.arrow(Lbar, -0.05, -(LM-10) , 0, head_width = 0.025, head_length = 5, clip_on = False)\n",
    "    ax.text(Lbar-LM/2, -0.12,'$L_m$',fontsize=16)\n",
    "    ax.set_xlim(0, Lbar)\n",
    "    ax.set_ylim(0, 1.25)\n",
    "    ax.set_xlabel(r'$c_1$', fontsize=18)\n",
    "    ax.set_ylabel('$c_2$', fontsize=18)\n",
    "    ax.spines['top'].set_visible(False)\n",
    "    ax.get_xaxis().set_visible(False)\n",
    "    print(f'(wm, wr, wu) = ({wm:0.2f}, {WR:0.2f}, {wu:0.2f}); gdp loss = {100-gdpratio(wm,wu):0.0f}%', end ='')\n",
    "    if LR > LE:\n",
    "        print('  Inefficiently large ag sector')\n",
    "    elif LR<LE:    \n",
    "        print('  Urban Bias')"
   ]
  },
  {
   "cell_type": "markdown",
   "metadata": {},
   "source": [
    "The high institutional wage $w_m$ lowers demand for labor in the formal manufacturing sector relative to a competitive equilibiurm. In the Harris-Todaro model it's not apriori obvious whether the high institutional wage in the formal manufacturing sector will increase or decrease the size of the urban sector relative to the efficient competitive equilibrium.  Migrants have to weigh the lower probability of landing a formal sector job against the higher wage they will capture if they are lucky enough to get a job.  \n",
    "\n",
    "### Inefficiently large agricultural sector\n",
    "If we assume the informal sector (or unemployment) wage is zero, then for our Cobb-Douglas demands the following diagram suggests the policy creates an informal urban sector but overall reduces the size of the size of the urban sector relative to the rural sector, compared to the efficient competitive equilibrium. "
   ]
  },
  {
   "cell_type": "code",
   "execution_count": 7,
   "metadata": {
    "tags": [
     "hide-input"
    ]
   },
   "outputs": [
    {
     "name": "stdout",
     "output_type": "stream",
     "text": [
      "(wm, wr, wu) = (0.90, 0.43, 0.00); gdp loss = 14%  Inefficiently large ag sector\n"
     ]
    },
    {
     "data": {
      "image/png": "[encoded data removed]",
      "text/plain": [
       "<Figure size 720x432 with 1 Axes>"
      ]
     },
     "metadata": {
      "needs_background": "light"
     },
     "output_type": "display_data"
    }
   ],
   "source": [
    "HTplot(wm = 0.9, wu = 0)"
   ]
  },
  {
   "cell_type": "markdown",
   "metadata": {},
   "source": [
    "In this first scenario the effect of the manipulated urban wage is to reduce total urban employment and create an urban informal sector of the underemployed.  Rural workers are dissuaded from migrating to the cities and we end up with a larger than efficient rural sector.  "
   ]
  },
  {
   "cell_type": "markdown",
   "metadata": {},
   "source": [
    "### Urban Bias\n",
    "\n",
    "If we make the informal sector sufficiently attractive it is possible to get 'urban-bias' or an excessively small agricultural sector relative to the efficient allocation. \n",
    "\n",
    "For the following diagram we first make note of the efficient equilibrium wage and rural sector size:"
   ]
  },
  {
   "cell_type": "code",
   "execution_count": 9,
   "metadata": {
    "tags": [
     "hide-input"
    ]
   },
   "outputs": [
    {
     "name": "stdout",
     "output_type": "stream",
     "text": [
      "Efficient competitive wage is w = 0.50 and rural employment is Lr = 271\n",
      "HT distorted economy: wr = 0.43 with Lr = 271, Lu =  68 and Lm =  62\n"
     ]
    }
   ],
   "source": [
    "WR, LR, LM, WE, LE = harristodaro(wm = 0.9, wu = 0)\n",
    "print(f'Efficient competitive wage is w ={WE:5.2f} and rural employment is Lr ={LR:4.0f}')\n",
    "print(f'HT distorted economy: wr = {WR:4.2f} with Lr ={LR:4.0f}, Lu ={Lbar-LR-LM:4.0f} and Lm ={LM:4.0f}')"
   ]
  },
  {
   "cell_type": "markdown",
   "metadata": {},
   "source": [
    "This is not the only possible outcome.  Suppose that workers in the informal sector do not earn zero as we have assumed above, but instead have access to low-productivity survival activities which pay a return $w_u$ larger than zero but lower than what would be the efficient market wage. In an efficient equilibrium no worker would want to work in this lower paying informal urban sector. \n",
    "\n",
    "However, the existence of this low-productivity option in the urban informal sector raises the expected return to migration in the Harris-Todaro distorted equilibrium by placing a floor on how far incomes will fall for those who try and fail to get modern sector jobs and end up in the informal sector. As is demonstrated below, this may result in an **urban-bias** equilibrium with excess migration, a smaller than efficient rural sector, and a large urban informal sector:"
   ]
  },
  {
   "cell_type": "code",
   "execution_count": 11,
   "metadata": {
    "tags": [
     "hide-input"
    ]
   },
   "outputs": [
    {
     "name": "stdout",
     "output_type": "stream",
     "text": [
      "(wm, wr, wu) = (0.90, 0.56, 0.45); gdp loss = 8%  Urban Bias\n"
     ]
    },
    {
     "data": {
      "image/png": "[encoded data removed]",
      "text/plain": [
       "<Figure size 720x432 with 1 Axes>"
      ]
     },
     "metadata": {
      "needs_background": "light"
     },
     "output_type": "display_data"
    }
   ],
   "source": [
    "HTplot(wm = 0.9, wu = 0.45)"
   ]
  },
  {
   "cell_type": "code",
   "execution_count": 12,
   "metadata": {},
   "outputs": [
    {
     "name": "stdout",
     "output_type": "stream",
     "text": [
      "Efficient competitive wage is w = 0.50 and rural employment is Lr = 141\n",
      "HT distorted economy: wr = 0.60 with Lr = 141, Lu = 197 and Lm =  62\n"
     ]
    }
   ],
   "source": [
    "WR, LR, LM, WE, LE = harristodaro(wm = 0.9, wu = 0.5)\n",
    "print(f'Efficient competitive wage is w ={WE:5.2f} and rural employment is Lr ={LR:4.0f}')\n",
    "print(f'HT distorted economy: wr = {WR:4.2f} with Lr ={LR:4.0f}, Lu ={Lbar-LR-LM:4.0f} and Lm ={LM:4.0f}')"
   ]
  }
 ],
 "metadata": {
  "anaconda-cloud": {},
  "kernelspec": {
   "display_name": "Python 3 (ipykernel)",
   "language": "python",
   "name": "python3"
  },
  "language_info": {
   "codemirror_mode": {
    "name": "ipython",
    "version": 3
   },
   "file_extension": ".py",
   "mimetype": "text/x-python",
   "name": "python",
   "nbconvert_exporter": "python",
   "pygments_lexer": "ipython3",
   "version": "3.7.11"
  },
  "widgets": {
   "application/vnd.jupyter.widget-state+json": {
    "state": {},
    "version_major": 2,
    "version_minor": 0
   }
  }
 },
 "nbformat": 4,
 "nbformat_minor": 4
}
