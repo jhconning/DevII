{
 "cells": [
  {
   "cell_type": "markdown",
   "metadata": {},
   "source": [
    "# Edgeworth Box: Efficiency in production allocation"
   ]
  },
  {
   "cell_type": "markdown",
   "metadata": {},
   "source": [
    "## Efficiency in production"
   ]
  },
  {
   "cell_type": "markdown",
   "metadata": {},
   "source": [
    "Consider a small-open economy with two production sectors -- agriculture and manufacturing -- with production in each sector taking place with constant returns to scale production functions.  Producers in the agricultural sector maximize profits\n",
    "\n",
    "$$\\max_{K_A,L_A} p_A F(K_A,L_A) - w L_A - r K_A$$\n",
    "\n",
    "And producers in manufacturing similarly maximize\n",
    "\n",
    "$$\\max_{K_M,L_M} p_M G(K_M,L_M) - w L_M - r K_M$$\n",
    "\n",
    "In equilibrium total factor demands must equal total supplies:\n",
    "\n",
    "$$K_A + K_M = \\bar K$$\n",
    "\n",
    "$$L_A + L_M = \\bar L$$ \n",
    "\n",
    "The first order necessary conditions for an interior optimum in each sector lead to an equilibrium where the following condition must hold:\n",
    "\n",
    "$$\\frac{F_L(K_A,L_A)}{F_K(K_A,L_A)} = \\frac{w}{r} \n",
    "       =\\frac{G_L(\\bar K-K_A,\\bar L- L_A)}{F_K(\\bar K-K_A,\\bar L- L_A)} $$"
   ]
  },
  {
   "cell_type": "markdown",
   "metadata": {},
   "source": [
    "Efficiency requires that the marginal rates of technical substitutions (MRTS) be equalized across sectors (and across firms within a sector which is being assumed here). In an Edgeworth box, isoquants from each sector will be tanget to a common wage-rental ratio line.  \n",
    "\n",
    "If we assume Cobb-Douglas forms $F(K,L) = K^\\alpha L^{1-\\alpha}$ and $G(K,L) = K^\\beta L^{1-\\beta}$ the efficiency condition can be used to find a closed form solution for $K_A$ in terms of $L_A$:\n",
    "\n",
    "$$\\frac{(1-\\alpha)}{\\alpha}\\frac{K_A}{L_A} =\\frac{w}{r} =\\frac{(1-\\beta)}{\\beta}\\frac{\\bar K-K_A}{\\bar L-L_A}$$"
   ]
  },
  {
   "cell_type": "markdown",
   "metadata": {},
   "source": [
    "Rearranging the expression above we can get a closed-form expression for the efficiency locus $K_A (L_A)$:\n",
    "\n",
    "$$K_A(L_A) = \\frac{L_A \\cdot \\bar K}\n",
    "{ \\frac{\\beta(1-\\alpha)}{\\alpha (1-\\beta)} (\\bar L -L_A)+L_A}$$\n",
    "\n",
    "With this we can now plot the *efficiency locus* curve in an Edgeworth box."
   ]
  },
  {
   "cell_type": "markdown",
   "metadata": {},
   "source": [
    "## Edgeworth Box plots"
   ]
  },
  {
   "cell_type": "markdown",
   "metadata": {},
   "source": [
    "Click on the + to reveal the python code for the plots below."
   ]
  },
  {
   "cell_type": "code",
   "execution_count": 1,
   "metadata": {
    "tags": [
     "hide-input"
    ]
   },
   "outputs": [],
   "source": [
    "import matplotlib.pyplot as plt\n",
    "import numpy as np\n",
    "from ipywidgets import interact, fixed"
   ]
  },
  {
   "cell_type": "code",
   "execution_count": 2,
   "metadata": {
    "tags": [
     "hide-input"
    ]
   },
   "outputs": [],
   "source": [
    "ALPHA = 0.6   # capital share in agriculture\n",
    "BETA = 0.4   # \n",
    "\n",
    "KBAR = 100\n",
    "LBAR = 100\n",
    "\n",
    "p = 1      # =Pa/Pm  relative price of ag goods\n",
    "\n",
    "def F(K,L,alpha=ALPHA):\n",
    "    \"\"\"Agriculture Production function\"\"\"\n",
    "    return (K**alpha)*(L**(1-alpha))\n",
    "\n",
    "def G(K,L,beta=BETA):\n",
    "    \"\"\"Manufacturing Production function\"\"\"\n",
    "    return (K**beta)*(L**(1-beta))\n",
    "\n",
    "def budgetc(c1, p1, p2, I):\n",
    "    return (I/p2)-(p1/p2)*c1\n",
    "\n",
    "def isoq(L, Q, mu):\n",
    "    return (Q/(L**(1-mu)))**(1/mu)"
   ]
  },
  {
   "cell_type": "code",
   "execution_count": 3,
   "metadata": {
    "tags": [
     "hide-input"
    ]
   },
   "outputs": [],
   "source": [
    "def edgeworth(L, Kbar=KBAR, Lbar=LBAR,alpha=ALPHA, beta=BETA):\n",
    "    \"\"\"efficiency locus: \"\"\"\n",
    "    a = (1-alpha)/alpha\n",
    "    b = (1-beta)/beta\n",
    "    return b*L*Kbar/(a*(Lbar-L)+b*L)\n",
    "\n",
    "def edgeplot(LA, Kbar=KBAR, Lbar=LBAR,alpha=ALPHA,beta=BETA):\n",
    "    \"\"\"Draw an edgeworth box\n",
    "    \n",
    "    arguments:\n",
    "    LA -- labor allocated to ag, from which calculate QA(Ka(La),La) \n",
    "    \"\"\"\n",
    "    KA = edgeworth(LA, Kbar, Lbar,alpha, beta)\n",
    "    RTS = (alpha/(1-alpha))*(KA/LA)\n",
    "    QA = F(KA,LA,alpha)\n",
    "    QM = G(Kbar-KA,Lbar-LA,beta)\n",
    "    print(\"(LA,KA)=({:4.1f}, {:4.1f})  (QA, QM)=({:4.1f}, {:4.1f})  RTS={:4.1f}\"\n",
    "          .format(LA,KA,QA,QM,RTS))\n",
    "    La = np.arange(1,Lbar)\n",
    "    fig, ax = plt.subplots(figsize=(7,6))\n",
    "    ax.set_xlim(0, Lbar)\n",
    "    ax.set_ylim(0, Kbar)\n",
    "    ax.plot(La, edgeworth(La,Kbar,Lbar,alpha,beta),'k-')\n",
    "    #ax.plot(La, La,'k--')\n",
    "    ax.plot(La, isoq(La, QA, alpha))\n",
    "    ax.plot(La, Kbar-isoq(Lbar-La, QM, beta),'g-')\n",
    "    ax.plot(LA, KA,'ob')\n",
    "    ax.vlines(LA,0,KA, linestyles=\"dashed\")\n",
    "    ax.hlines(KA,0,LA, linestyles=\"dashed\")\n",
    "    ax.text(-6,-6,r'$O_A$',fontsize=16)\n",
    "    ax.text(Lbar,Kbar,r'$O_M$',fontsize=16)\n",
    "    ax.set_xlabel(r'$L_A -- Labor$', fontsize=16)\n",
    "    ax.set_ylabel('$K_A - Capital$', fontsize=16)\n",
    "    #plt.show()"
   ]
  },
  {
   "cell_type": "code",
   "execution_count": 4,
   "metadata": {
    "tags": [
     "hide-input"
    ]
   },
   "outputs": [],
   "source": [
    "def ppf(LA,Kbar=KBAR, Lbar=LBAR,alpha=ALPHA,beta=BETA):\n",
    "    \"\"\"Draw a production possibility frontier\n",
    "    \n",
    "    arguments:\n",
    "    LA -- labor allocated to ag, from which calculate QA(Ka(La),La) \n",
    "    \"\"\"\n",
    "    KA = edgeworth(LA, Kbar, Lbar,alpha, beta)\n",
    "    RTS = (alpha/(1-alpha))*(KA/LA)\n",
    "    QA = F( KA,LA,alpha)\n",
    "    QM = G(Kbar-KA,Lbar-LA,beta)\n",
    "    ax.scatter(QA,QM)\n",
    "    La = np.arange(0,Lbar)\n",
    "    Ka = edgeworth(La, Kbar, Lbar,alpha, beta)\n",
    "    Qa = F(Ka,La,alpha)\n",
    "    Qm = G(Kbar-Ka,Lbar-La,beta)\n",
    "    ax.set_xlim(0, 2*LBAR)\n",
    "    ax.set_ylim(0, Kbar)\n",
    "    ax.plot(Qa, Qm,'k-')\n",
    "    ax.set_xlabel(r'$Q_A$',fontsize=18)\n",
    "    ax.set_ylabel(r'$Q_B$',fontsize=18)\n",
    "    plt.show()"
   ]
  },
  {
   "cell_type": "markdown",
   "metadata": {},
   "source": [
    "Here is and Edgeworth Box depicting the situation where $L_A = 50$ units of labor are allocated to the agricultural sector and all other allocations are efficient (along the efficiency locus)."
   ]
  },
  {
   "cell_type": "code",
   "execution_count": 5,
   "metadata": {},
   "outputs": [
    {
     "name": "stdout",
     "output_type": "stream",
     "text": [
      "(LA,KA)=(50.0, 69.2)  (QA, QM)=(60.8, 41.2)  RTS= 2.1\n"
     ]
    },
    {
     "data": {
      "image/png": "[encoded data removed]",
      "text/plain": [
       "<Figure size 504x432 with 1 Axes>"
      ]
     },
     "metadata": {
      "needs_background": "light"
     },
     "output_type": "display_data"
    }
   ],
   "source": [
    "edgeplot(50)"
   ]
  },
  {
   "cell_type": "markdown",
   "metadata": {},
   "source": [
    "If you're reading this using a jupyter server you can interact with the following plot, changing the technology parameters and position of the isoquant. If you are not this may appear blank or static."
   ]
  },
  {
   "cell_type": "code",
   "execution_count": 6,
   "metadata": {},
   "outputs": [
    {
     "data": {
      "application/vnd.jupyter.widget-view+json": {
       "model_id": "4ae908b17bd44eacacfae960f3ed1050",
       "version_major": 2,
       "version_minor": 0
      },
      "text/plain": [
       "interactive(children=(IntSlider(value=50, description='LA', max=90, min=10), IntSlider(value=100, description=…"
      ]
     },
     "metadata": {},
     "output_type": "display_data"
    }
   ],
   "source": [
    "LA = 50\n",
    "interact(edgeplot, LA=(10, LBAR-10,1), \n",
    "         Kbar=fixed(KBAR), Lbar=(LBAR, 2*LBAR, 1),\n",
    "         alpha=(0.1,0.9,0.1),beta=(0.1,0.9,0.1));"
   ]
  },
  {
   "cell_type": "markdown",
   "metadata": {},
   "source": [
    "### The Production Possiblity Frontier\n",
    "\n",
    "The **efficiency locus** also allows us to trace out the production possibility frontier: by varying $L_A$ from 0 to $\\bar L$ and, for every $L_A$, calculating $K_A(L_A)$ and with that efficient production $(q_A,q_B)$ where $q_A=F(K_A(L_A), L_A)$ and $q_B=F(\\bar K - K_A(L_A), \\bar L - L_A)$. \n",
    "\n",
    "For Cobb-Douglas technologies the PPF will be quite straight unless $\\beta$ and $\\alpha$ are very different from each other."
   ]
  },
  {
   "cell_type": "code",
   "execution_count": 7,
   "metadata": {},
   "outputs": [
    {
     "data": {
      "image/png": "[encoded data removed]",
      "text/plain": [
       "<Figure size 504x432 with 1 Axes>"
      ]
     },
     "metadata": {
      "needs_background": "light"
     },
     "output_type": "display_data"
    }
   ],
   "source": [
    "fig, ax = plt.subplots(figsize=(7,6))\n",
    "ppf(30,alpha =0.8, beta=0.2)"
   ]
  },
  {
   "cell_type": "markdown",
   "metadata": {},
   "source": [
    "## Efficient resource allocation and comparative advantage in a small open economy"
   ]
  },
  {
   "cell_type": "markdown",
   "metadata": {},
   "source": [
    "We have a production possibility frontier which also tells us the opportunity cost of producing different amounts of good $A$ in terms of how much of good B (via its slope or the Rate of Product Transformation (RPT) $\\frac{MC_A}{MC_B}$). This is given by the slope of the PPF. The bowed out shape of the PPF tells us that the opportunity cost of producing either good is rising in its quantity. \n",
    "\n",
    "How much of each good will the economy produce?   If this is a competitive small open economy then product prices will be given by world prices. Each firm maximizes profits which leads every firm in the A sector to increase output until $MC_X(q_a) = P_A$ and similarly in the B sector so that in equlibrium we must have \n",
    "\n",
    "$$\\frac{MC_A}{MC_B} = \\frac{P_A}{P_B}$$\n",
    "\n",
    "and the economy will produce where the slope of the PPF exactly equals the world relative price.  This is where national income valued at world prices is maximized, and the country is producing according to comparative advantage.\n",
    "\n",
    "Consumers take this income as given and maximize utility.  If we make heroic assumptions about preferences (preferences are identical and homothetic) then we can represent consumer preferences on the same diagram and we would have consumers choosing a consumption basket somewhere along the *consumption possibliity frontier* given by the world price line passing thorugh the production point. \n",
    "\n",
    "If the economy is instead assumed to be closed then product prices must be calculated alongside the resource allocation. The PPF itself becomes the economy's budget constraint and we find an optimum (and equlibrium autarky domestic prices) where the community indifference curve is tangent to the PPF."
   ]
  },
  {
   "cell_type": "markdown",
   "metadata": {},
   "source": [
    "As previously noted, given our linear homogenous production technology, profit maximization in agriculture will lead firms to choose inputs to satisfy $\\frac{(1-\\alpha)}{\\alpha}\\frac{K_A}{L_A} =\\frac{w}{r}$. This implies a relationship between the optimal production technique or capital-labor intensity $\\frac{K_A}{L_A}$ in agriculture and the factor price ratio $\\frac{w}{r}$:\n",
    "\n",
    "$$  \\frac{K_A}{L_A} = \\frac{\\alpha}{1-\\alpha} \\frac{w}{r} $$\n",
    "\n",
    "and similarly in manufacturing\n",
    "\n",
    "$$  \\frac{K_M}{L_M} = \\frac{\\beta}{1-\\beta} \\frac{w}{r} $$"
   ]
  },
  {
   "cell_type": "markdown",
   "metadata": {},
   "source": [
    "From the first order conditions we also have:\n",
    "\n",
    "$$P_A F_L(K_A,L_A) = w = P_M G_L(K_M,L_M) $$"
   ]
  },
  {
   "cell_type": "markdown",
   "metadata": {},
   "source": [
    "Note this condition states that competition has driven firms to price at marginal cost in each industry or $P_A = MC_A = w\\frac{1}{F_L}$ and $P_M = MC_M = w\\frac{1}{G_L}$ which in turn implies that at a market equilibrium optimum \n",
    "\n",
    "$$\\frac{P_A}{P_M} = \\frac{G_L(K_M,L_M)}{F_L(K_A,L_A)}$$\n",
    "\n",
    "This states that the world price line with slope (negative) $\\frac{P_A}{P_M}$ will be tangent to the production possibility frontier which as a slope (negative) $\\frac{MC_A}{MC_M}= \\frac{P_A}{P_M}$ which can also be written as $\\frac{G_L}{F_L}$ or equivalently $\\frac{G_K}{F_K}$. The competitive market leads producers to move resources across sectors to maximize the value of GDP at world prices. "
   ]
  },
  {
   "cell_type": "markdown",
   "metadata": {},
   "source": [
    "With the Cobb Douglas technology we can write:\n",
    "\n",
    "$$F_L = (1-\\alpha) \\left [ \\frac{K_A}{L_A} \\right]^\\alpha$$\n",
    "\n",
    "$$G_L = (1-\\beta) \\left [ \\frac{K_M}{L_M} \\right]^\\beta$$"
   ]
  },
  {
   "cell_type": "markdown",
   "metadata": {},
   "source": [
    "Using these expressions and the earlier expression relating $\\frac{K_A}{L_A}$ and $\\frac{K_M}{L_M}$ to $\\frac{w}{r}$ we have:"
   ]
  },
  {
   "cell_type": "markdown",
   "metadata": {},
   "source": [
    "$$\\frac{P_A}{P_M} \n",
    "=\\frac{1-\\alpha}{1-\\beta} \n",
    "    \\frac{\\left [ \\frac{ (1-\\beta)}{\\beta} \\frac{w}{r} \\right]^\\beta} \n",
    "    { \\left [ \\frac{ (1-\\alpha)}{\\alpha} \\frac{w}{r} \\right]^\\alpha}\n",
    "$$"
   ]
  },
  {
   "cell_type": "markdown",
   "metadata": {},
   "source": [
    "or \n",
    "\n",
    "$$\\frac{P_A}{P_M} = \\Gamma \\left [ \\frac{w}{r}  \\right]^{\\beta - \\alpha}\n",
    "$$\n",
    "where"
   ]
  },
  {
   "cell_type": "markdown",
   "metadata": {},
   "source": [
    "$$\\Gamma =\n",
    "\\frac{1-\\alpha}{1-\\beta} \n",
    "\\left ( \\frac{\\alpha}{1-\\alpha} \\right )^\\alpha \n",
    "\\left ( \\frac{1-\\beta}{\\beta} \\right )^\\beta \n",
    "$$"
   ]
  },
  {
   "cell_type": "markdown",
   "metadata": {},
   "source": [
    "Solving for $\\frac{w}{r}$ as a function of the world prices we find an expression for the 'Stolper-Samuelson' (SS) line:"
   ]
  },
  {
   "cell_type": "markdown",
   "metadata": {},
   "source": [
    "$$\\frac{w}{r} = \\frac{1}{\\Gamma} \\left [  \\frac{P_A}{P_M}   \\right ]^\\frac{1}{\\beta-\\alpha} $$"
   ]
  },
  {
   "cell_type": "markdown",
   "metadata": {},
   "source": [
    "### The Stolper Samuelson Theorem\n",
    "\n",
    "The Stolper Samuelson theorem tells us how changes in the world relative price of products translates into changes in the relative price of factors and therefore in the distribution of income in society.\n",
    "\n",
    "The theorem states that an increase in the relative price of a good will lead to an increase in both the relative and the real price of the factor used intensively in the production of that good (and conversely to a decline in both the real and the relative price of the other factor)."
   ]
  },
  {
   "cell_type": "code",
   "execution_count": null,
   "metadata": {
    "tags": [
     "hide-input"
    ]
   },
   "outputs": [],
   "source": [
    "def wreq(p,a=ALPHA, b=BETA):\n",
    "    B = ((1-a)/(1-b))*(a/(1-a))**a  * ((1-b)/b)**b\n",
    "    return B*p"
   ]
  },
  {
   "cell_type": "code",
   "execution_count": null,
   "metadata": {
    "tags": [
     "hide-input"
    ]
   },
   "outputs": [],
   "source": [
    "def ssline(a=ALPHA, b=BETA):\n",
    "    p = np.linspace(0.1,10,100)\n",
    "    plt.title('The Stolper-Samuelson line')\n",
    "    plt.xlabel(r'$p = \\frac{P_a}{P_m}$', fontsize=18)\n",
    "    plt.ylabel(r'$ \\frac{w}{r}$', fontsize=18)\n",
    "    plt.plot(p,wreq(p, a, b));"
   ]
  },
  {
   "cell_type": "code",
   "execution_count": null,
   "metadata": {},
   "outputs": [],
   "source": [
    "ssline(a=0.6, b=0.3);"
   ]
  },
  {
   "cell_type": "markdown",
   "metadata": {},
   "source": [
    "This relationship can be seen from the formula.  If agriculture were more labor intensive than manufacturing, so $\\alpha < \\beta$, then an increase in the relative price of agricultural goods creates an incipient excess demand for labor and an excess supply of capital (as firms try to expand production in the now more profitable labor-intensive agricultural sector and cut back production in the now relatively less profitable and capital-intensive manufacturing sector). Equilibrium will only be restored if the equilibrium wage-rental ratio falls which in turn leads firms in both sectors to adopt more capital-intensive techniques.  With more capital per worker in each sector output per worker and hence real wages per worker $\\frac{w}{P_a}$ and $\\frac{w}{P_m}$ increase.  "
   ]
  },
  {
   "cell_type": "markdown",
   "metadata": {},
   "source": [
    "### Extensions to do\n",
    "\n",
    " * Code to solve for unique HOS equilibrium as a function of world relative price $\\frac{P_A}{P_M}$\n",
    " * Interactive plot with $\\frac{P_A}{P_M}$ slider that plots equilibrium in Edgeworth box and PPF\n",
    " "
   ]
  },
  {
   "cell_type": "markdown",
   "metadata": {},
   "source": [
    "It's interesting to note that for Cobb-Douglas technologies you really need quite a difference in capital-intensities between the two technologies in order to get much curvature to the production function."
   ]
  }
 ],
 "metadata": {
  "hide_input": false,
  "kernelspec": {
   "display_name": "Python 3 (ipykernel)",
   "language": "python",
   "name": "python3"
  },
  "language_info": {
   "codemirror_mode": {
    "name": "ipython",
    "version": 3
   },
   "file_extension": ".py",
   "mimetype": "text/x-python",
   "name": "python",
   "nbconvert_exporter": "python",
   "pygments_lexer": "ipython3",
   "version": "3.7.11"
  },
  "toc": {
   "colors": {
    "hover_highlight": "#DAA520",
    "navigate_num": "#000000",
    "navigate_text": "#333333",
    "running_highlight": "#FF0000",
    "selected_highlight": "#FFD700",
    "sidebar_border": "#EEEEEE",
    "wrapper_background": "#FFFFFF"
   },
   "moveMenuLeft": true,
   "nav_menu": {
    "height": "155px",
    "width": "252px"
   },
   "navigate_menu": true,
   "number_sections": false,
   "sideBar": true,
   "threshold": 4,
   "toc_cell": false,
   "toc_section_display": "none",
   "toc_window_display": true,
   "widenNotebook": false
  },
  "varInspector": {
   "cols": {
    "lenName": 16,
    "lenType": 16,
    "lenVar": 40
   },
   "kernels_config": {
    "python": {
     "delete_cmd_postfix": "",
     "delete_cmd_prefix": "del ",
     "library": "var_list.py",
     "varRefreshCmd": "print(var_dic_list())"
    },
    "r": {
     "delete_cmd_postfix": ") ",
     "delete_cmd_prefix": "rm(",
     "library": "var_list.r",
     "varRefreshCmd": "cat(var_dic_list()) "
    }
   },
   "types_to_exclude": [
    "module",
    "function",
    "builtin_function_or_method",
    "instance",
    "_Feature"
   ],
   "window_display": true
  },
  "widgets": {
   "application/vnd.jupyter.widget-state+json": {
    "state": {
     "1a03a8e762034ed0b6dd02b6e24b5de1": {
      "model_module": "@jupyter-widgets/controls",
      "model_module_version": "1.5.0",
      "model_name": "SliderStyleModel",
      "state": {
       "description_width": ""
      }
     },
     "1f15501404734c618c1ef14ef5e09f96": {
      "model_module": "@jupyter-widgets/base",
      "model_module_version": "1.2.0",
      "model_name": "LayoutModel",
      "state": {}
     },
     "4ae908b17bd44eacacfae960f3ed1050": {
      "model_module": "@jupyter-widgets/controls",
      "model_module_version": "1.5.0",
      "model_name": "VBoxModel",
      "state": {
       "_dom_classes": [
        "widget-interact"
       ],
       "children": [
        "IPY_MODEL_84bc5f344efa4f038ae485bedc657c56",
        "IPY_MODEL_d9ae96a9f3a7410eb3daef98c97c15c6",
        "IPY_MODEL_efb575d062b94f3daf963c737335831e",
        "IPY_MODEL_96b6017255784239a40a90cd7a12520b",
        "IPY_MODEL_76501a35111742528a944cbedc94c9d5"
       ],
       "layout": "IPY_MODEL_e742e67f947f49cb8d7699b0fea66090"
      }
     },
     "76501a35111742528a944cbedc94c9d5": {
      "model_module": "@jupyter-widgets/output",
      "model_module_version": "1.0.0",
      "model_name": "OutputModel",
      "state": {
       "layout": "IPY_MODEL_bca077798ee24d2194edb4e4d09677d4",
       "outputs": [
        {
         "name": "stdout",
         "output_type": "stream",
         "text": "(LA,KA)=(50.0, 69.2)  (QA, QM)=(60.8, 41.2)  RTS= 2.1\n"
        },
        {
         "data": {
          "image/png": "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\n",
          "text/plain": "<Figure size 504x432 with 1 Axes>"
         },
         "metadata": {
          "needs_background": "light"
         },
         "output_type": "display_data"
        }
       ]
      }
     },
     "84bc5f344efa4f038ae485bedc657c56": {
      "model_module": "@jupyter-widgets/controls",
      "model_module_version": "1.5.0",
      "model_name": "IntSliderModel",
      "state": {
       "description": "LA",
       "layout": "IPY_MODEL_c270e326525e4f9ba03dd092f1b2ca09",
       "max": 90,
       "min": 10,
       "style": "IPY_MODEL_f5f6e767e77c417b9a8455decdf7846a",
       "value": 50
      }
     },
     "862f1ce95de94adbbdd90d85d4a96666": {
      "model_module": "@jupyter-widgets/controls",
      "model_module_version": "1.5.0",
      "model_name": "SliderStyleModel",
      "state": {
       "description_width": ""
      }
     },
     "96b6017255784239a40a90cd7a12520b": {
      "model_module": "@jupyter-widgets/controls",
      "model_module_version": "1.5.0",
      "model_name": "FloatSliderModel",
      "state": {
       "description": "beta",
       "layout": "IPY_MODEL_cc99ec55de7246c89a00e1d8099b41f0",
       "max": 0.9,
       "min": 0.1,
       "step": 0.1,
       "style": "IPY_MODEL_1a03a8e762034ed0b6dd02b6e24b5de1",
       "value": 0.4
      }
     },
     "ad82cbd0d74e4eac9da6668861472e67": {
      "model_module": "@jupyter-widgets/controls",
      "model_module_version": "1.5.0",
      "model_name": "SliderStyleModel",
      "state": {
       "description_width": ""
      }
     },
     "bca077798ee24d2194edb4e4d09677d4": {
      "model_module": "@jupyter-widgets/base",
      "model_module_version": "1.2.0",
      "model_name": "LayoutModel",
      "state": {}
     },
     "c270e326525e4f9ba03dd092f1b2ca09": {
      "model_module": "@jupyter-widgets/base",
      "model_module_version": "1.2.0",
      "model_name": "LayoutModel",
      "state": {}
     },
     "cc99ec55de7246c89a00e1d8099b41f0": {
      "model_module": "@jupyter-widgets/base",
      "model_module_version": "1.2.0",
      "model_name": "LayoutModel",
      "state": {}
     },
     "d514bf53bd9644f69fe2dd3ed701c930": {
      "model_module": "@jupyter-widgets/base",
      "model_module_version": "1.2.0",
      "model_name": "LayoutModel",
      "state": {}
     },
     "d9ae96a9f3a7410eb3daef98c97c15c6": {
      "model_module": "@jupyter-widgets/controls",
      "model_module_version": "1.5.0",
      "model_name": "IntSliderModel",
      "state": {
       "description": "Lbar",
       "layout": "IPY_MODEL_1f15501404734c618c1ef14ef5e09f96",
       "max": 200,
       "min": 100,
       "style": "IPY_MODEL_862f1ce95de94adbbdd90d85d4a96666",
       "value": 100
      }
     },
     "e742e67f947f49cb8d7699b0fea66090": {
      "model_module": "@jupyter-widgets/base",
      "model_module_version": "1.2.0",
      "model_name": "LayoutModel",
      "state": {}
     },
     "efb575d062b94f3daf963c737335831e": {
      "model_module": "@jupyter-widgets/controls",
      "model_module_version": "1.5.0",
      "model_name": "FloatSliderModel",
      "state": {
       "description": "alpha",
       "layout": "IPY_MODEL_d514bf53bd9644f69fe2dd3ed701c930",
       "max": 0.9,
       "min": 0.1,
       "step": 0.1,
       "style": "IPY_MODEL_ad82cbd0d74e4eac9da6668861472e67",
       "value": 0.6
      }
     },
     "f5f6e767e77c417b9a8455decdf7846a": {
      "model_module": "@jupyter-widgets/controls",
      "model_module_version": "1.5.0",
      "model_name": "SliderStyleModel",
      "state": {
       "description_width": ""
      }
     }
    },
    "version_major": 2,
    "version_minor": 0
   }
  }
 },
 "nbformat": 4,
 "nbformat_minor": 4
}
