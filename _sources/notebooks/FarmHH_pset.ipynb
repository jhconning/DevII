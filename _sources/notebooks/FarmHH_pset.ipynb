{
 "cells": [
  {
   "cell_type": "markdown",
   "id": "ea042ca1-3583-4c65-88ee-bf234b866895",
   "metadata": {},
   "source": [
    "# Farm HH pset soln"
   ]
  },
  {
   "cell_type": "code",
   "execution_count": 1,
   "id": "40b3ada1-74d0-4e84-b621-ca196d247065",
   "metadata": {
    "tags": [
     "hide-input"
    ]
   },
   "outputs": [],
   "source": [
    "%load_ext autoreload\n",
    "%autoreload 2"
   ]
  },
  {
   "cell_type": "code",
   "execution_count": 2,
   "id": "37e2b1c8-df1f-42da-8c4a-4cb60cea812a",
   "metadata": {
    "tags": [
     "hide-input"
    ]
   },
   "outputs": [],
   "source": [
    "from farmhh import *"
   ]
  },
  {
   "cell_type": "markdown",
   "id": "f3a37119-36c2-4e7a-99cd-b15a0922bd69",
   "metadata": {},
   "source": [
    "**Problem Set 1**\n",
    "\n",
    "Please read the notes on [Farm Household Models](FarmHousehold.ipynb) and answer the questions in this Problem Set. Solutions: "
   ]
  },
  {
   "cell_type": "markdown",
   "id": "2114941f-bb42-42de-b91c-0e6cb1ac83ce",
   "metadata": {},
   "source": [
    "1.  A farm household’s preferences over consumption (of corn) and leisure are\n",
    "    summarized by the utility function , where *c* is daily corn consumption and\n",
    "    *l* is daily leisure in hours. For simplicity assume just one household\n",
    "    member (call him Joe) with a daily labor endowment of hours. The market wage\n",
    "    rate is *w* and the price of consumption is p. The household also owns units\n",
    "    of land. There is no market for land. By applying his own and/or hired labor\n",
    "    *L* to this fixed size plot the household member can produce units of corn\n",
    "    which he can sell or consume.\n",
    "    \n",
    "    Farm production is given by \n",
    "\n",
    "$$\n",
    "F(\\bar T, L) =  \\bar T^\\alpha \\cdot L^{1-\\alpha}\n",
    "$$\n",
    "\n",
    "Let's assume $\\alpha = 1/2$ so and the household has $\\bar T_i = 100$ units of land, so that  $F(T,L) = 10 \\sqrt L$"
   ]
  },
  {
   "cell_type": "markdown",
   "id": "ff25226f-ca63-441d-a1dc-5b6bb6f80b95",
   "metadata": {},
   "source": [
    "**Answer:** No question has been asked yet, but the household's problem is to maximize utility over consumption $c_i$ and leisure $l_i$, given the budget constraint that the value of consumption cannot exceed income from farm profits plus market wages, given by the product of the market wage times labor supply to the market $(\\bar L - l_i)$.  We have assumed that there is no land market (so each household farms with available land endowment $\\bar T_i$ but that labor markets are competitive.   The farmers optimization problem then becomes nested and separable.  We can think of the household as maximizing utility over consumption and leisure subject to a budget constraint:"
   ]
  },
  {
   "cell_type": "markdown",
   "id": "12da701a-0ef4-4430-82d3-c6f4ed3fd8c1",
   "metadata": {},
   "source": [
    "$$\n",
    "\\max_{c_i,l_i} U(c_i,l_i)\n",
    "$$\n",
    "\n",
    "subject to \n",
    "\n",
    "$$\n",
    "p\\cdot c_i \\leq \\Pi(p,w,q;\\bar T_i) + w \\cdot (\\bar L - l_i)\n",
    "$$"
   ]
  },
  {
   "cell_type": "markdown",
   "id": "aa653873-c5f8-4340-8af0-871bf9abba0e",
   "metadata": {},
   "source": [
    "We can think of the farm as a separable firm as choosing the optimal level of labor input $L_i$ (of own and/or hired labor) to maximize profits:\n",
    "\n",
    "$$\n",
    "\\Pi(p, w, r;\\bar T_i) = \\max_{L_i} p \\cdot F(\\bar T_i, L_i) - w \\cdot L_i\n",
    "$$\n",
    "\n",
    "and then using this maximized level of profits as part of income.\n",
    "\n",
    "An equivalent but slightly different way of stating the budget constraint is tha the vlaue of consumption and leisure purchases cannot exceed income generated from farm profits plus the sale of the available labor endowment.  Here the housheold 'purchases' leisure:\n",
    "\n",
    "$$\n",
    "p\\cdot c_i + w \\cdot l_i \\leq \\Pi(p,w; \\bar T_i) - w \\cdot L_i$$"
   ]
  },
  {
   "cell_type": "markdown",
   "id": "929c823e-3d0f-48af-8bde-8501264d9645",
   "metadata": {},
   "source": [
    "2. **The farm profits are given by . Given , $w=1$ and $p=1$ and that the farmer has $\\bar T =100$ units of land, what is the farmer’s\n",
    "    profit maximizing labor input choice $L_i^*$? How much profit does he earn?**"
   ]
  },
  {
   "cell_type": "markdown",
   "id": "c36221d7-1044-41e7-8281-5e69dbe4bb46",
   "metadata": {},
   "source": [
    "Since the farm household problem is separable we first find maximized farm profits.  The FOC for profit maximization are:\n",
    "\n",
    "$$\n",
    "p \\cdot F_L = w\n",
    "$$\n",
    "\n",
    "or\n",
    "\n",
    "\n",
    "$$\n",
    "\\alpha \\cdot p \\cdot \\frac{\\sqrt{\\bar T}}{\\sqrt L}  = w\n",
    "$$\n",
    "\n",
    "which we can solve \n",
    "\n",
    "$$\n",
    "L_i = \\frac{ \\alpha^2 p^2}{w^2}  \\cdot \\bar T_i\n",
    "$$"
   ]
  },
  {
   "cell_type": "markdown",
   "id": "168c86d5-d13e-483a-9b87-7b66b3ca07ba",
   "metadata": {},
   "source": [
    "So when $\\alpha=1/2$, $w=1$, $p=1$ and $\\bar T = 100$, the optimal labor input is:  $L_i = \\frac{1}{4} \\cdot T_i = 25$ units of labor."
   ]
  },
  {
   "cell_type": "code",
   "execution_count": 3,
   "id": "7b8a41c2-8a13-434b-aed9-0698eaada6db",
   "metadata": {},
   "outputs": [],
   "source": [
    "ALPHA = 0.5    # land share in production\n",
    "BETA = 0.7     # consumption share\n",
    "TBAR = 100     # household land endowment\n",
    "LBAR = 100     # household labor endowment\n",
    "\n",
    "W=1            # nominal wage"
   ]
  },
  {
   "cell_type": "code",
   "execution_count": 4,
   "id": "ddfaa957-9e52-4dbc-bd89-d5a13876bc22",
   "metadata": {
    "tags": [
     "hide-input"
    ]
   },
   "outputs": [
    {
     "name": "stdout",
     "output_type": "stream",
     "text": [
      "Optimal labor input is Li = 25.0 units of labor; Maximized Profit =  25.0\n"
     ]
    }
   ],
   "source": [
    "LD, profit = farm_optimum(TBAR, W, ALPHA)\n",
    "print(f'Optimal labor input is Li = {LD:4.1f} units of labor; Maximized Profit = {profit: 4.1f}')"
   ]
  },
  {
   "cell_type": "markdown",
   "id": "6a7cd0bc-c9b3-4c66-a75b-b1f1f348cc24",
   "metadata": {},
   "source": [
    "With this information we know household income is:  $I = w \\bar L + \\Pi(p,w;\\bar T_i) = 1 \\cdot 100 + 25 = 125$\n",
    "\n",
    "Since preferences are Cobb-Douglas, we have very simple Marshallian demands for consumption and leisure:\n",
    "\n",
    "$$\n",
    "\\begin{aligned}\n",
    "c(p,w, I) &= \\beta \\cdot \\frac{I}{p}   \\\\\n",
    "l(p,w, I) &= (1-\\beta) \\cdot \\frac{I}{w}  \n",
    "\\end{aligned}\n",
    "$$\n",
    "\n"
   ]
  },
  {
   "cell_type": "code",
   "execution_count": 9,
   "id": "8b338e80-8202-4be1-a8ce-c22d768204eb",
   "metadata": {
    "tags": [
     "hide-input"
    ]
   },
   "outputs": [
    {
     "name": "stdout",
     "output_type": "stream",
     "text": [
      "25.0 125.0\n",
      "Household consumption is C = 87.5, leisure l = 37.5, and maximized utility =  67.9\n",
      "The household labor supply (LBAR- l) = 62.5, and the farm hires out (hires in)  =  37.5 units of labor\n"
     ]
    }
   ],
   "source": [
    "C, l, utility = HH_optimum(TBAR, LBAR, W, ALPHA, BETA)\n",
    "print(f'Household consumption is C = {C:4.1f}, leisure l = {l:4.1f}, and maximized utility = {utility: 4.1f}')\n",
    "print(f'The household labor supply (LBAR- l) = {LBAR - l:4.1f}, and the farm hires out (hires in)  = {LBAR - l -LD: 4.1f} units of labor')"
   ]
  },
  {
   "cell_type": "code",
   "execution_count": 7,
   "id": "ca79f672-cacb-48ba-92be-de48dc2d2ba9",
   "metadata": {},
   "outputs": [
    {
     "name": "stdout",
     "output_type": "stream",
     "text": [
      "25.0 125.0\n"
     ]
    },
    {
     "data": {
      "image/png": "[encoded data removed]",
      "text/plain": [
       "<Figure size 720x576 with 1 Axes>"
      ]
     },
     "metadata": {
      "needs_background": "light"
     },
     "output_type": "display_data"
    }
   ],
   "source": [
    "fig, ax = plt.subplots(figsize=(10,8))\n",
    "plot_production(TBAR,LBAR,W)\n",
    "plot_farmconsumption(TBAR, LBAR, W)\n",
    "ax.set_title(\"The Separable Household Model\")\n",
    "ax.set_xlim(0,LBAR+20)\n",
    "ax.set_ylim(0,F(TBAR,LBAR)+20)\n",
    "plt.show()"
   ]
  },
  {
   "cell_type": "code",
   "execution_count": null,
   "id": "b2f801fd-233a-4e82-b184-c3fd32debf82",
   "metadata": {},
   "outputs": [],
   "source": []
  }
 ],
 "metadata": {
  "kernelspec": {
   "display_name": "Python 3 (ipykernel)",
   "language": "python",
   "name": "python3"
  },
  "language_info": {
   "codemirror_mode": {
    "name": "ipython",
    "version": 3
   },
   "file_extension": ".py",
   "mimetype": "text/x-python",
   "name": "python",
   "nbconvert_exporter": "python",
   "pygments_lexer": "ipython3",
   "version": "3.7.11"
  },
  "widgets": {
   "application/vnd.jupyter.widget-state+json": {
    "state": {},
    "version_major": 2,
    "version_minor": 0
   }
  }
 },
 "nbformat": 4,
 "nbformat_minor": 5
}
